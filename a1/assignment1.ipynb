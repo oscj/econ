{
 "cells": [
  {
   "cell_type": "raw",
   "id": "b4a538dd-8d03-4b4d-8b2b-e8ee9936eab8",
   "metadata": {},
   "source": [
    "---\n",
    "format: \n",
    "  html:\n",
    "    code-fold: true\n",
    "    code-line-numbers: true\n",
    "    page-layout: full\n",
    "title: \"Data Assignment 1 - Canada's Energy Future\"\n",
    "author: \"Oscar Jaimes\"\n",
    "date: \"September 29, 2023\"\n",
    "toc: true\n",
    "toc-location: right\n",
    "---"
   ]
  },
  {
   "cell_type": "markdown",
   "id": "067bb074-50c5-4f8b-a091-0a41a2f9221c",
   "metadata": {},
   "source": [
    "## Import Required Libraries"
   ]
  },
  {
   "cell_type": "code",
   "execution_count": 95,
   "id": "81377d24-a745-4116-998b-dde126c4ac5a",
   "metadata": {},
   "outputs": [
    {
     "data": {
      "text/html": [
       "        <script type=\"text/javascript\">\n",
       "        window.PlotlyConfig = {MathJaxConfig: 'local'};\n",
       "        if (window.MathJax && window.MathJax.Hub && window.MathJax.Hub.Config) {window.MathJax.Hub.Config({SVG: {font: \"STIX-Web\"}});}\n",
       "        if (typeof require !== 'undefined') {\n",
       "        require.undef(\"plotly\");\n",
       "        requirejs.config({\n",
       "            paths: {\n",
       "                'plotly': ['https://cdn.plot.ly/plotly-2.25.2.min']\n",
       "            }\n",
       "        });\n",
       "        require(['plotly'], function(Plotly) {\n",
       "            window._Plotly = Plotly;\n",
       "        });\n",
       "        }\n",
       "        </script>\n",
       "        "
      ]
     },
     "metadata": {},
     "output_type": "display_data"
    }
   ],
   "source": [
    "import pandas as pd\n",
    "import seaborn as sns\n",
    "import numpy as np\n",
    "import requests\n",
    "from matplotlib import pyplot as plt\n",
    "from datetime import datetime\n",
    "from io import BytesIO\n",
    "import plotly.graph_objects as go\n",
    "import plotly.io as pio\n",
    "from plotly.offline import iplot, init_notebook_mode\n",
    "import plotly.express as px\n",
    "\n",
    "# plotly config needed for interactive graphs\n",
    "init_notebook_mode(connected=True)"
   ]
  },
  {
   "cell_type": "markdown",
   "id": "cf0b7c94-de0c-422d-89c0-b51db85b829b",
   "metadata": {},
   "source": [
    "## Fetch Data & Setup Dataframe"
   ]
  },
  {
   "cell_type": "markdown",
   "id": "b4757476-aa0f-4f60-8835-bac3709ace10",
   "metadata": {},
   "source": [
    "#### Dataset Information\n",
    "<a href=\"https://open.canada.ca/data/en/dataset/7643c948-d661-4d90-ab91-e9ac732fc737/resource/b6030624-6394-48f2-a86c-1d536c21bddc\">\n",
    "    Canada’s Energy Future 2023: Energy Supply and Demand Projections to 2050 - benchmark-prices-2023\n",
    "</a>"
   ]
  },
  {
   "cell_type": "code",
   "execution_count": 96,
   "id": "3f2a2f24-1908-4d0c-85e1-cd07f49f56b1",
   "metadata": {},
   "outputs": [],
   "source": [
    "'''\n",
    "Dataset Information\n",
    "---------------------\n",
    "Canada’s Energy Future 2023: Energy Supply and Demand Projections to 2050 - benchmark-prices-2023\n",
    "'''\n",
    "\n",
    "DATA_URL = 'https://www.cer-rec.gc.ca/open/energy/energyfutures2023/benchmark-prices-2023.csv'\n",
    "benchmark_prices = None\n",
    "\n",
    "# fetch data from GOC and load it into pandas dataframe\n",
    "response = requests.get(DATA_URL)\n",
    "with BytesIO(response.content) as data:\n",
    "    benchmark_prices = pd.read_csv(data)\n",
    "\n",
    "# Filter out unwanted column \n",
    "benchmark_prices.drop('Unnamed: 0', axis=1, inplace=True)"
   ]
  },
  {
   "cell_type": "markdown",
   "id": "afe4e5ca-b2df-48b0-bcd1-a06937dc6239",
   "metadata": {},
   "source": [
    "## Reusable Graph & Table Functions"
   ]
  },
  {
   "cell_type": "code",
   "execution_count": 97,
   "id": "7f16a2b2-e430-48bb-ac6a-172ef253e636",
   "metadata": {},
   "outputs": [],
   "source": [
    "def format_table(dataframe, title, width):\n",
    "    '''\n",
    "    Formats a dataframe and returns a styled pandas table\n",
    "    '''\n",
    "    table = dataframe.style \\\n",
    "    .set_caption(title) \\\n",
    "    .hide(axis=\"index\") \\\n",
    "    .format(precision=2) \\\n",
    "    .set_properties(**{'width': width, 'text-align': 'center'}) \\\n",
    "    .set_table_attributes(\"style='width: 100%'\") \\\n",
    "    .set_table_styles([\n",
    "        {\n",
    "        'selector': 'th',\n",
    "        'props': [('text-align', 'center')]\n",
    "        },\n",
    "        {\n",
    "        'selector': 'caption',\n",
    "        'props': [('text-align', 'center'), ('font-size', '16px')]\n",
    "        }])\n",
    "\n",
    "    return table"
   ]
  },
  {
   "cell_type": "code",
   "execution_count": 98,
   "id": "cdbb434c-674f-45dd-9d89-02fa49395ea0",
   "metadata": {},
   "outputs": [],
   "source": [
    "def create_line_graph(data, x, y, hue, title, y_label, caption, yticks, subtitle='', grouping=False, group_name='', legend_n_cols=1) -> None:\n",
    "    '''\n",
    "    Creates and shows a line graph based on the above parameters.\n",
    "    This function will create a line graph based on any arbritrary data.\n",
    "    '''\n",
    "    # color and size\n",
    "    palette = sns.color_palette(\"viridis\", n_colors=data[hue].nunique())\n",
    "    plt.figure(figsize=(10, 8))\n",
    "\n",
    "    # plot the line based on grouping\n",
    "    if grouping:\n",
    "        sns.lineplot(data=data, x=x, y=y, hue=hue, style=group_name, dashes=True, palette=palette)\n",
    "    else:\n",
    "        sns.lineplot(data=data, x=x, y=y, hue=hue, palette=palette)\n",
    "\n",
    "    # add title and subtitle\n",
    "    plt.gca().text(0, 1.07, title, transform=plt.gca().transAxes, fontsize=14, verticalalignment='bottom', ha='left')\n",
    "    if subtitle:\n",
    "        plt.gca().text(0, 1.05, subtitle, transform=plt.gca().transAxes, verticalalignment='top', ha='left')\n",
    "        \n",
    "    # format axes\n",
    "    plt.ylabel(y_label)\n",
    "    plt.xlabel('')\n",
    "    plt.yticks(yticks)\n",
    "\n",
    "    # create and position legend\n",
    "    bbox_to_anchor = (0.5 if not grouping else 0.25, -0.10)\n",
    "    plt.legend(loc='upper center', bbox_to_anchor=bbox_to_anchor, ncol=legend_n_cols)\n",
    "\n",
    "    # caption/source text\n",
    "    plt.text(x=1, y=-0.3 if not grouping else -0.4, s=caption, transform=plt.gca().transAxes, ha='right', va='bottom', fontsize=12)\n",
    "    \n",
    "    # display final graph\n",
    "    plt.grid(True, which='both', color='lightgray', linestyle='--', linewidth=0.5)\n",
    "    sns.despine(left=True, bottom=True)\n",
    "    plt.tight_layout()\n",
    "    plt.show()"
   ]
  },
  {
   "cell_type": "code",
   "execution_count": 99,
   "id": "dd2a2369-9c4b-4aa7-8ae3-40a08550c2bf",
   "metadata": {},
   "outputs": [],
   "source": [
    "def create_interactive_line_graph(df, x, y, title, xAxisTitle, yAxisTitle):\n",
    "    '''\n",
    "    Creates and shows an interactive line graph using plotly based on the above parameters.\n",
    "    '''\n",
    "    # Create traces, one for each combination of Scenario and Variable\n",
    "    traces = []\n",
    "    first_scenario = df['Scenario'].iloc[0]\n",
    "    for scenario in df['Scenario'].unique():\n",
    "        for variable in df['Variable'].unique():\n",
    "            df_filtered = df[(df['Scenario'] == scenario) & (df['Variable'] == variable)]\n",
    "            traces.append(\n",
    "                go.Scatter(\n",
    "                    x=df_filtered[x],\n",
    "                    y=df_filtered[y],\n",
    "                    mode='lines+markers',\n",
    "                    name=f\"{scenario} - {variable}\",\n",
    "                    visible=(scenario == first_scenario)\n",
    "                )\n",
    "            )\n",
    "    \n",
    "    # Create layout with dropdown\n",
    "    layout = go.Layout(\n",
    "        title=title,\n",
    "        xaxis=dict(title=xAxisTitle),\n",
    "        yaxis=dict(title=yAxisTitle),\n",
    "        autosize=True,\n",
    "        updatemenus=[\n",
    "            {\n",
    "                'buttons': [\n",
    "                    {\n",
    "                        'args': [{'visible': [scenario in trace.name for trace in traces]}],\n",
    "                        'label': scenario,\n",
    "                        'method': 'update'\n",
    "                    }\n",
    "                    for scenario in df['Scenario'].unique()\n",
    "                ],\n",
    "                'direction': 'down',\n",
    "                'showactive': True,\n",
    "                'x': 0.5,\n",
    "                'xanchor': 'center',\n",
    "                'y': 1.12,\n",
    "                'yanchor': 'top'\n",
    "            }\n",
    "        ],\n",
    "        legend=dict(\n",
    "            x=0,  \n",
    "            y=-0.2,\n",
    "            orientation=\"h\",\n",
    "            xanchor='left',\n",
    "            yanchor='top'\n",
    "        )\n",
    "    )\n",
    "    \n",
    "    # Create the figure\n",
    "    fig = go.Figure(data=traces, layout=layout)\n",
    "    \n",
    "    # Show the first scenario by default\n",
    "    first_scenario = df['Scenario'].iloc[0]\n",
    "    fig.update_layout(\n",
    "        updatemenus=[\n",
    "            {\n",
    "                'buttons': [\n",
    "                    {\n",
    "                        'args': [{'visible': [scenario in trace.name for trace in traces]}],\n",
    "                        'label': scenario,\n",
    "                        'method': 'update'\n",
    "                    }\n",
    "                    for scenario in df['Scenario'].unique()\n",
    "                ],\n",
    "                'direction': 'down',\n",
    "                'showactive': True,\n",
    "                'active': list(df['Scenario'].unique()).index(first_scenario)\n",
    "            }\n",
    "        ]\n",
    "    )\n",
    "    \n",
    "    # Show the figure\n",
    "    fig.show()"
   ]
  },
  {
   "cell_type": "markdown",
   "id": "6e95008a-84ec-4090-af02-5ba468e3da86",
   "metadata": {},
   "source": [
    "## WTI Prices - Current Measures"
   ]
  },
  {
   "cell_type": "code",
   "execution_count": 100,
   "id": "a6881187-c28a-49fa-be56-e3bacc9bf36b",
   "metadata": {},
   "outputs": [
    {
     "data": {
      "text/html": [
       "<style type=\"text/css\">\n",
       "#T_323d8 th {\n",
       "  text-align: center;\n",
       "}\n",
       "#T_323d8 caption {\n",
       "  text-align: center;\n",
       "  font-size: 16px;\n",
       "}\n",
       "#T_323d8_row0_col0, #T_323d8_row0_col1, #T_323d8_row1_col0, #T_323d8_row1_col1, #T_323d8_row2_col0, #T_323d8_row2_col1, #T_323d8_row3_col0, #T_323d8_row3_col1, #T_323d8_row4_col0, #T_323d8_row4_col1, #T_323d8_row5_col0, #T_323d8_row5_col1, #T_323d8_row6_col0, #T_323d8_row6_col1 {\n",
       "  width: 50%;\n",
       "  text-align: center;\n",
       "}\n",
       "</style>\n",
       "<table id=\"T_323d8\" style='width: 100%'>\n",
       "  <caption>West Texas Intermediate (WTI) prices ($2022 per barrel) in the Current Measures scenario of the Canadian Energy Regulator’s Canada’s Energy Future (2023) report</caption>\n",
       "  <thead>\n",
       "    <tr>\n",
       "      <th id=\"T_323d8_level0_col0\" class=\"col_heading level0 col0\" >Year</th>\n",
       "      <th id=\"T_323d8_level0_col1\" class=\"col_heading level0 col1\" >Price ($2022/bbl)</th>\n",
       "    </tr>\n",
       "  </thead>\n",
       "  <tbody>\n",
       "    <tr>\n",
       "      <td id=\"T_323d8_row0_col0\" class=\"data row0 col0\" >2020</td>\n",
       "      <td id=\"T_323d8_row0_col1\" class=\"data row0 col1\" >43.66</td>\n",
       "    </tr>\n",
       "    <tr>\n",
       "      <td id=\"T_323d8_row1_col0\" class=\"data row1 col0\" >2025</td>\n",
       "      <td id=\"T_323d8_row1_col1\" class=\"data row1 col1\" >76.67</td>\n",
       "    </tr>\n",
       "    <tr>\n",
       "      <td id=\"T_323d8_row2_col0\" class=\"data row2 col0\" >2030</td>\n",
       "      <td id=\"T_323d8_row2_col1\" class=\"data row2 col1\" >72.50</td>\n",
       "    </tr>\n",
       "    <tr>\n",
       "      <td id=\"T_323d8_row3_col0\" class=\"data row3 col0\" >2035</td>\n",
       "      <td id=\"T_323d8_row3_col1\" class=\"data row3 col1\" >72.50</td>\n",
       "    </tr>\n",
       "    <tr>\n",
       "      <td id=\"T_323d8_row4_col0\" class=\"data row4 col0\" >2040</td>\n",
       "      <td id=\"T_323d8_row4_col1\" class=\"data row4 col1\" >72.50</td>\n",
       "    </tr>\n",
       "    <tr>\n",
       "      <td id=\"T_323d8_row5_col0\" class=\"data row5 col0\" >2045</td>\n",
       "      <td id=\"T_323d8_row5_col1\" class=\"data row5 col1\" >72.50</td>\n",
       "    </tr>\n",
       "    <tr>\n",
       "      <td id=\"T_323d8_row6_col0\" class=\"data row6 col0\" >2050</td>\n",
       "      <td id=\"T_323d8_row6_col1\" class=\"data row6 col1\" >72.50</td>\n",
       "    </tr>\n",
       "  </tbody>\n",
       "</table>\n"
      ],
      "text/plain": [
       "<pandas.io.formats.style.Styler at 0x17d236670>"
      ]
     },
     "execution_count": 100,
     "metadata": {},
     "output_type": "execute_result"
    }
   ],
   "source": [
    "current_measures_prices = benchmark_prices\n",
    "\n",
    "# Filter the benchmark_prices table to:\n",
    "# only have WTI prices for the 'Current Measures' Scenario\n",
    "# only incluide years that are multiples of 5 starting at 2020\n",
    "current_measures_prices = current_measures_prices[\n",
    "    (current_measures_prices['Variable'] == 'West Texas Intermediate (WTI) - 2022 US$/bbl') &\n",
    "    (current_measures_prices['Scenario'] == 'Current Measures') &\n",
    "    (current_measures_prices['Year'] >= 2020) & \n",
    "    (current_measures_prices['Year'] % 5 == 0)\n",
    "]\n",
    "\n",
    "# Remove columns other than Year and Value\n",
    "current_measures_prices = current_measures_prices[['Year', 'Value']]\n",
    "\n",
    "# Update the column names for table\n",
    "current_measures_prices.columns = ['Year', 'Price ($2022/bbl)']\n",
    "\n",
    "# Create and style table to show\n",
    "current_measures_table = format_table(\n",
    "    dataframe=current_measures_prices,\n",
    "    title='West Texas Intermediate (WTI) prices ($2022 per barrel) in the Current Measures scenario of the Canadian Energy Regulator’s Canada’s Energy Future (2023) report',\n",
    "    width='50%'\n",
    ")\n",
    "\n",
    "# Visualize the table\n",
    "current_measures_table"
   ]
  },
  {
   "cell_type": "markdown",
   "id": "35d2b0f3-ce07-44a2-b2b6-7f87a8a08ea6",
   "metadata": {},
   "source": [
    "## Crude Oil Prices - Canada Net-Zero"
   ]
  },
  {
   "cell_type": "code",
   "execution_count": 101,
   "id": "31b0c3c4-5bb0-4f24-895e-65b7e249fa3e",
   "metadata": {},
   "outputs": [
    {
     "data": {
      "image/png": "[encoded data removed]",
      "text/plain": [
       "<Figure size 1000x800 with 1 Axes>"
      ]
     },
     "metadata": {},
     "output_type": "display_data"
    }
   ],
   "source": [
    "# filter for Canada Net-zero scenario\n",
    "net_zero_prices = benchmark_prices[benchmark_prices['Scenario'] == 'Canada Net-zero'].copy()\n",
    "\n",
    "# strip the 2022 US $/bbl from each of the variable names\n",
    "net_zero_prices['Variable'] = net_zero_prices['Variable'].str.split('-').str[0].str.strip()\n",
    "\n",
    "# filter out prices for Brent, WTI, and WCS\n",
    "included = ['Brent', 'Western Canadian Select (WCS)', 'West Texas Intermediate (WTI)']\n",
    "net_zero_prices = net_zero_prices[net_zero_prices[\"Variable\"].isin(included)]\n",
    "\n",
    "# Create & Show line graph for crude oil spot prices in Canda Net-zero Scenario\n",
    "create_line_graph(\n",
    "    data=net_zero_prices,\n",
    "    x='Year',\n",
    "    y='Value',\n",
    "    hue='Variable',\n",
    "    title='Crude Oil Spot Prices, Canada Net-zero Scenario',\n",
    "    y_label='Price (2022 US$/bbl)',\n",
    "    caption='Data via Canadian Energy Regulator, Energy Futures (2023), graph by Oscar Jaimes',\n",
    "    yticks=[n for n in range(151) if n % 50 == 0],\n",
    "    subtitle=None,\n",
    "    legend_n_cols=3,\n",
    "    grouping=False,\n",
    "    group_name=None\n",
    ")"
   ]
  },
  {
   "cell_type": "markdown",
   "id": "e9386976-b8c4-4df6-83c4-2e8fb9c6a386",
   "metadata": {},
   "source": [
    "## WCS Crude Oil Prices"
   ]
  },
  {
   "cell_type": "code",
   "execution_count": 102,
   "id": "7828abd7-5474-492d-af8a-29d390c8e9d1",
   "metadata": {},
   "outputs": [
    {
     "data": {
      "image/png": "[encoded data removed]",
      "text/plain": [
       "<Figure size 1000x800 with 1 Axes>"
      ]
     },
     "metadata": {},
     "output_type": "display_data"
    }
   ],
   "source": [
    "# filter benchmark prices to only include WCS Data\n",
    "wcs_data = benchmark_prices[\n",
    "    benchmark_prices[\"Variable\"] == 'Western Canadian Select (WCS) - 2022 US$/bbl'\n",
    "]\n",
    "\n",
    "# show line graph for WCS prices across multiple scenarios\n",
    "create_line_graph(\n",
    "    data=wcs_data,\n",
    "    x='Year',\n",
    "    y='Value',\n",
    "    hue='Scenario',\n",
    "    title='Western Canadian Select Crude Oil Prices',\n",
    "    y_label='Price (2022 US$/bbl)',\n",
    "    caption='Data via Canadian Energy Regulator, Energy Futures (2023), graph by Oscar Jaimes',\n",
    "    yticks=[i for i in range(151) if i % 50 == 0],\n",
    "    subtitle='Current Measures, Canada Net-zero, and Global Net-zero Scenarios',\n",
    "    legend_n_cols=3,\n",
    "    grouping=False,\n",
    "    group_name=None\n",
    ")"
   ]
  },
  {
   "cell_type": "markdown",
   "id": "ff35b1bf-52fb-4b55-aa0f-fe21ae5661e5",
   "metadata": {},
   "source": [
    "## NIT Natural Gas Prices"
   ]
  },
  {
   "cell_type": "code",
   "execution_count": 103,
   "id": "57a65643-1a8d-4808-966e-e254b42d9cb5",
   "metadata": {},
   "outputs": [
    {
     "data": {
      "image/png": "[encoded data removed]",
      "text/plain": [
       "<Figure size 1000x800 with 1 Axes>"
      ]
     },
     "metadata": {},
     "output_type": "display_data"
    }
   ],
   "source": [
    "# filter benchmark prices to only include NIT Data\n",
    "nit_data = benchmark_prices[\n",
    "    benchmark_prices[\"Variable\"] == 'Nova Inventory Transfer (NIT) - 2022 US$/MMBtu'\n",
    "]\n",
    "\n",
    "# create line graph of NIT prices across different scenarios\n",
    "create_line_graph(\n",
    "    data=nit_data,\n",
    "    x='Year',\n",
    "    y='Value',\n",
    "    hue='Scenario',\n",
    "    title='Nova Inventory Transfer (NIT) Natural Gas Prices',\n",
    "    y_label='Price (2022 US$/MMBtu)',\n",
    "    caption='Data via Canadian Energy Regulator, Energy Futures (2023), graph by Oscar Jaimes',\n",
    "    yticks=[n for n in range(13) if n % 2 == 0],\n",
    "    subtitle='Current Policies and Evolving Policies Scenarios',\n",
    "    legend_n_cols=3,\n",
    "    grouping=False,\n",
    "    group_name=None\n",
    ")"
   ]
  },
  {
   "cell_type": "markdown",
   "id": "fdb75d90-bb8e-4ab7-96bc-7c27e111203a",
   "metadata": {},
   "source": [
    "## Crude Oil Prices - Current & Global Net-zero"
   ]
  },
  {
   "cell_type": "code",
   "execution_count": 104,
   "id": "99a0a7f5-7673-46ac-a52f-b7eb1b08b41b",
   "metadata": {},
   "outputs": [
    {
     "data": {
      "image/png": "[encoded data removed]",
      "text/plain": [
       "<Figure size 1000x800 with 1 Axes>"
      ]
     },
     "metadata": {},
     "output_type": "display_data"
    }
   ],
   "source": [
    "# filter for Current Measures and Global Net-zero scenarios\n",
    "valid_scenarios = ['Current Measures', 'Global Net-zero']\n",
    "oil_prices = benchmark_prices[benchmark_prices['Scenario'].isin(valid_scenarios)].copy()\n",
    "\n",
    "# strip the 2022 US $/bbl from each of the variable names\n",
    "oil_prices['Variable'] = oil_prices['Variable'].str.split('-').str[0].str.strip()\n",
    "\n",
    "# filter out prices for Brent, WTI, and WCS\n",
    "valid_types = ['Brent', 'Western Canadian Select (WCS)', 'West Texas Intermediate (WTI)']\n",
    "oil_prices = oil_prices[oil_prices[\"Variable\"].isin(valid_types)]\n",
    "\n",
    "\n",
    "# Create line graph to show grouped oil prices across different scenarios\"\n",
    "create_line_graph(\n",
    "    data=oil_prices,\n",
    "    x='Year',\n",
    "    y='Value',\n",
    "    hue='Variable',\n",
    "    title='Crude Oil Prices',\n",
    "    subtitle='Current Measures and Global net-zero Scenarios',\n",
    "    y_label='Price (2022 US$/bbl)',\n",
    "    caption='Data via Canadian Energy Regulator, Energy Futures (2023), graph by Oscar Jaimes',\n",
    "    yticks=[n for n in range(int(oil_prices['Value'].max() + 10)) if n % 50 == 0],\n",
    "    grouping=True,\n",
    "    group_name='Scenario',\n",
    "    legend_n_cols=2\n",
    ")\n"
   ]
  },
  {
   "cell_type": "markdown",
   "id": "f4aea965-72d9-4e2d-bc66-6eaddbae87ea",
   "metadata": {},
   "source": [
    "## Interactive Graphs"
   ]
  },
  {
   "cell_type": "markdown",
   "id": "2d18ce87-b859-4d2e-a529-36f69fe3604a",
   "metadata": {},
   "source": [
    "As an extension of the challenge graph, I wanted to visualize the data such that a user is able to interact with it. Instead of showing multiple line series on the same graph, I figured it would be a good idea to let a user choose what scenario they want to see prices for and then visually compare the changes.\n",
    "\n",
    "The following graphs were created with the plotly library. You can:\n",
    "\n",
    "- Filter the graph by Scenario\n",
    "- Select/Unselect legend items to view in the graph\n",
    "- Zoom into a bounding box on the graph\n",
    "- Download the plot as a PNG\n",
    "- Reset the view by double-clicking on the graph"
   ]
  },
  {
   "cell_type": "code",
   "execution_count": 105,
   "id": "63023a76-d816-45bf-a9ce-2a88e8ab12ae",
   "metadata": {},
   "outputs": [
    {
     "data": {
      "application/vnd.plotly.v1+json": {
       "config": {
        "plotlyServerURL": "https://plot.ly"
       },
       "data": [
        {
         "mode": "lines+markers",
         "name": "Current Measures - Brent",
         "type": "scatter",
         "visible": true,
         "x": [
          2005,
          2006,
          2007,
          2008,
          2009,
          2010,
          2011,
          2012,
          2013,
          2014,
          2015,
          2016,
          2017,
          2018,
          2019,
          2020,
          2021,
          2022,
          2023,
          2024,
          2025,
          2026,
          2027,
          2028,
          2029,
          2030,
          2031,
          2032,
          2033,
          2034,
          2035,
          2036,
          2037,
          2038,
          2039,
          2040,
          2041,
          2042,
          2043,
          2044,
          2045,
          2046,
          2047,
          2048,
          2049,
          2050
         ],
         "y": [
          80.8665756264198,
          93.5456355215549,
          101.095032141505,
          130.315020512094,
          83.262915326185,
          105.633733989938,
          143.135843691189,
          140.694974846012,
          134.848792714513,
          120.982067039344,
          63.3786749727695,
          52.463337464405,
          63.7320769987563,
          81.8328285263673,
          72.6518989303432,
          46.4711179883946,
          75.8521205164993,
          100.94,
          85,
          80,
          79.1666666666667,
          78.3333333333333,
          77.5,
          76.6666666666667,
          75.8333333333334,
          75,
          75,
          75,
          75,
          75,
          75,
          75,
          75,
          75,
          75,
          75,
          75,
          75,
          75,
          75,
          75,
          75,
          75,
          75,
          75,
          75
         ]
        },
        {
         "mode": "lines+markers",
         "name": "Current Measures - Canadian Light Sweet (CLS)",
         "type": "scatter",
         "visible": true,
         "x": [
          2005,
          2006,
          2007,
          2008,
          2009,
          2010,
          2011,
          2012,
          2013,
          2014,
          2015,
          2016,
          2017,
          2018,
          2019,
          2020,
          2021,
          2022,
          2023,
          2024,
          2025,
          2026,
          2027,
          2028,
          2029,
          2030,
          2031,
          2032,
          2033,
          2034,
          2035,
          2036,
          2037,
          2038,
          2039,
          2040,
          2041,
          2042,
          2043,
          2044,
          2045,
          2046,
          2047,
          2048,
          2049,
          2050
         ],
         "y": [
          65.7579446012748,
          74.3952768227681,
          82.3612303338737,
          110.793138099574,
          66.8933553332186,
          87.1363563637734,
          111.477519963389,
          100.300214698307,
          104.66530554729,
          97.9250801991823,
          69.5929831266362,
          63.3302290379649,
          72.7811846819254,
          78.7070695937494,
          77.7671165578603,
          50.5954436433972,
          85.9314966663854,
          119.73,
          103.95,
          96.285,
          96.4166666666667,
          94.6,
          92.8,
          91.7333333333334,
          90.6666666666667,
          88.9,
          88.9,
          88.2,
          88.9,
          88.9,
          88.9,
          89.6,
          89.6,
          90.3,
          90.3,
          90.3,
          90.3,
          91,
          91,
          91,
          91,
          91,
          90.3,
          90.3,
          90.3,
          89.6
         ]
        },
        {
         "mode": "lines+markers",
         "name": "Current Measures - West Texas Intermediate (WTI)",
         "type": "scatter",
         "visible": true,
         "x": [
          2005,
          2006,
          2007,
          2008,
          2009,
          2010,
          2011,
          2012,
          2013,
          2014,
          2015,
          2016,
          2017,
          2018,
          2019,
          2020,
          2021,
          2022,
          2023,
          2024,
          2025,
          2026,
          2027,
          2028,
          2029,
          2030,
          2031,
          2032,
          2033,
          2034,
          2035,
          2036,
          2037,
          2038,
          2039,
          2040,
          2041,
          2042,
          2043,
          2044,
          2045,
          2046,
          2047,
          2048,
          2049,
          2050
         ],
         "y": [
          83.8725402193511,
          94.7953061950207,
          100.959932609239,
          133.895158117158,
          83.5443726850737,
          105.464859574605,
          122.544423314893,
          119.045274800294,
          122.003078854833,
          114.046957716327,
          58.9571886644627,
          51.9715686404359,
          59.7664732416328,
          74.7768874064137,
          64.352373640663,
          43.662117812555,
          72.984527301882,
          94.91,
          80,
          76,
          76.6666666666667,
          75.8333333333333,
          75,
          74.1666666666667,
          73.3333333333334,
          72.5,
          72.5,
          72.5,
          72.5,
          72.5,
          72.5,
          72.5,
          72.5,
          72.5,
          72.5,
          72.5,
          72.5,
          72.5,
          72.5,
          72.5,
          72.5,
          72.5,
          72.5,
          72.5,
          72.5,
          72.5
         ]
        },
        {
         "mode": "lines+markers",
         "name": "Current Measures - Western Canadian Select (WCS)",
         "type": "scatter",
         "visible": true,
         "x": [
          2005,
          2006,
          2007,
          2008,
          2009,
          2010,
          2011,
          2012,
          2013,
          2014,
          2015,
          2016,
          2017,
          2018,
          2019,
          2020,
          2021,
          2022,
          2023,
          2024,
          2025,
          2026,
          2027,
          2028,
          2029,
          2030,
          2031,
          2032,
          2033,
          2034,
          2035,
          2036,
          2037,
          2038,
          2039,
          2040,
          2041,
          2042,
          2043,
          2044,
          2045,
          2046,
          2047,
          2048,
          2049,
          2050
         ],
         "y": [
          54.3307758303938,
          65.3548664552633,
          69.9433316597046,
          107.483199559043,
          70.6085924705493,
          87.0800648919957,
          101.243730394196,
          93.3088139035118,
          91.7070087440543,
          88.4906295292333,
          42.4262053085169,
          35.0722346674421,
          45.4763599082138,
          46.2675968702545,
          49.8964862436196,
          29.6056373661847,
          58.8327407882522,
          78.1846153846154,
          63,
          61,
          64.1666666666667,
          63.3333333333333,
          62.5,
          61.6666666666667,
          60.8333333333334,
          60,
          60,
          60,
          60,
          60,
          60,
          60,
          60,
          60,
          60,
          60,
          60,
          60,
          60,
          60,
          60,
          60,
          60,
          60,
          60,
          60
         ]
        },
        {
         "mode": "lines+markers",
         "name": "Canada Net-zero - Brent",
         "type": "scatter",
         "visible": false,
         "x": [
          2005,
          2006,
          2007,
          2008,
          2009,
          2010,
          2011,
          2012,
          2013,
          2014,
          2015,
          2016,
          2017,
          2018,
          2019,
          2020,
          2021,
          2022,
          2023,
          2024,
          2025,
          2026,
          2027,
          2028,
          2029,
          2030,
          2031,
          2032,
          2033,
          2034,
          2035,
          2036,
          2037,
          2038,
          2039,
          2040,
          2041,
          2042,
          2043,
          2044,
          2045,
          2046,
          2047,
          2048,
          2049,
          2050
         ],
         "y": [
          80.8665756264198,
          93.5456355215549,
          101.095032141505,
          130.315020512094,
          83.262915326185,
          105.633733989938,
          143.135843691189,
          140.694974846012,
          134.848792714513,
          120.982067039344,
          63.3786749727695,
          52.463337464405,
          63.7320769987563,
          81.8328285263673,
          72.6518989303432,
          46.4711179883946,
          75.8521205164993,
          100.94,
          85,
          80,
          77.3333333333333,
          74.6666666666667,
          72,
          69.3333333333333,
          66.6666666666666,
          64,
          63.8,
          63.6,
          63.4,
          63.2,
          63,
          62.8,
          62.6,
          62.4,
          62.2,
          62,
          61.8,
          61.6,
          61.4,
          61.2,
          61,
          60.8,
          60.6,
          60.3999999999999,
          60.1999999999999,
          60
         ]
        },
        {
         "mode": "lines+markers",
         "name": "Canada Net-zero - Canadian Light Sweet (CLS)",
         "type": "scatter",
         "visible": false,
         "x": [
          2005,
          2006,
          2007,
          2008,
          2009,
          2010,
          2011,
          2012,
          2013,
          2014,
          2015,
          2016,
          2017,
          2018,
          2019,
          2020,
          2021,
          2022,
          2023,
          2024,
          2025,
          2026,
          2027,
          2028,
          2029,
          2030,
          2031,
          2032,
          2033,
          2034,
          2035,
          2036,
          2037,
          2038,
          2039,
          2040,
          2041,
          2042,
          2043,
          2044,
          2045,
          2046,
          2047,
          2048,
          2049,
          2050
         ],
         "y": [
          65.7579446012748,
          74.3952768227681,
          82.3612303338737,
          110.793138099574,
          66.8933553332186,
          87.1363563637734,
          111.477519963389,
          100.300214698307,
          104.66530554729,
          97.9250801991823,
          69.5929831266362,
          63.3302290379649,
          72.7811846819254,
          78.7070695937494,
          77.7671165578603,
          50.5954436433972,
          85.9314966663854,
          119.73,
          103.95,
          96.285,
          94.0333333333333,
          89.87,
          86.43,
          82.3466666666666,
          79.55,
          76.11,
          75.852,
          75.594,
          75.92,
          75.66,
          75.98,
          76.296,
          76.032,
          76.342,
          76.076,
          75.81,
          76.112,
          75.844,
          75.576,
          75.308,
          75.0399999999999,
          74.7719999999999,
          74.5039999999999,
          73.6819999999999,
          73.4159999999999,
          72.6
         ]
        },
        {
         "mode": "lines+markers",
         "name": "Canada Net-zero - West Texas Intermediate (WTI)",
         "type": "scatter",
         "visible": false,
         "x": [
          2005,
          2006,
          2007,
          2008,
          2009,
          2010,
          2011,
          2012,
          2013,
          2014,
          2015,
          2016,
          2017,
          2018,
          2019,
          2020,
          2021,
          2022,
          2023,
          2024,
          2025,
          2026,
          2027,
          2028,
          2029,
          2030,
          2031,
          2032,
          2033,
          2034,
          2035,
          2036,
          2037,
          2038,
          2039,
          2040,
          2041,
          2042,
          2043,
          2044,
          2045,
          2046,
          2047,
          2048,
          2049,
          2050
         ],
         "y": [
          83.8725402193511,
          94.7953061950207,
          100.959932609239,
          133.895158117158,
          83.5443726850737,
          105.464859574605,
          122.544423314893,
          119.045274800294,
          122.003078854833,
          114.046957716327,
          58.9571886644627,
          51.9715686404359,
          59.7664732416328,
          74.7768874064137,
          64.352373640663,
          43.662117812555,
          72.984527301882,
          94.91,
          80,
          76,
          74.8333333333333,
          72.1666666666667,
          69.5,
          66.8333333333333,
          64.1666666666666,
          61.5,
          61.3,
          61.1,
          60.9,
          60.7,
          60.5,
          60.3,
          60.1,
          59.9,
          59.7,
          59.5,
          59.3,
          59.1,
          58.9,
          58.7,
          58.5,
          58.3,
          58.1,
          57.8999999999999,
          57.6999999999999,
          57.5
         ]
        },
        {
         "mode": "lines+markers",
         "name": "Canada Net-zero - Western Canadian Select (WCS)",
         "type": "scatter",
         "visible": false,
         "x": [
          2005,
          2006,
          2007,
          2008,
          2009,
          2010,
          2011,
          2012,
          2013,
          2014,
          2015,
          2016,
          2017,
          2018,
          2019,
          2020,
          2021,
          2022,
          2023,
          2024,
          2025,
          2026,
          2027,
          2028,
          2029,
          2030,
          2031,
          2032,
          2033,
          2034,
          2035,
          2036,
          2037,
          2038,
          2039,
          2040,
          2041,
          2042,
          2043,
          2044,
          2045,
          2046,
          2047,
          2048,
          2049,
          2050
         ],
         "y": [
          54.3307758303938,
          65.3548664552633,
          69.9433316597046,
          107.483199559043,
          70.6085924705493,
          87.0800648919957,
          101.243730394196,
          93.3088139035118,
          91.7070087440543,
          88.4906295292333,
          42.4262053085169,
          35.0722346674421,
          45.4763599082138,
          46.2675968702545,
          49.8964862436196,
          29.6056373661847,
          58.8327407882522,
          78.1846153846154,
          63,
          61,
          62.3333333333333,
          59.6666666666667,
          57,
          54.3333333333333,
          51.6666666666666,
          49,
          48.8,
          48.6,
          48.4,
          48.2,
          48,
          47.8,
          47.6,
          47.4,
          47.2,
          47,
          46.8,
          46.6,
          46.4,
          46.2,
          46,
          45.8,
          45.6,
          45.3999999999999,
          45.1999999999999,
          45
         ]
        },
        {
         "mode": "lines+markers",
         "name": "Global Net-zero - Brent",
         "type": "scatter",
         "visible": false,
         "x": [
          2005,
          2006,
          2007,
          2008,
          2009,
          2010,
          2011,
          2012,
          2013,
          2014,
          2015,
          2016,
          2017,
          2018,
          2019,
          2020,
          2021,
          2022,
          2023,
          2024,
          2025,
          2026,
          2027,
          2028,
          2029,
          2030,
          2031,
          2032,
          2033,
          2034,
          2035,
          2036,
          2037,
          2038,
          2039,
          2040,
          2041,
          2042,
          2043,
          2044,
          2045,
          2046,
          2047,
          2048,
          2049,
          2050
         ],
         "y": [
          80.8665756264198,
          93.5456355215549,
          101.095032141505,
          130.315020512094,
          83.262915326185,
          105.633733989938,
          143.135843691189,
          140.694974846012,
          134.848792714513,
          120.982067039344,
          63.3786749727695,
          52.463337464405,
          63.7320769987563,
          81.8328285263673,
          72.6518989303432,
          46.4711179883946,
          75.8521205164993,
          100.94,
          85,
          80,
          72.5,
          65,
          57.5,
          50,
          42.5,
          35,
          34.45,
          33.9,
          33.35,
          32.8,
          32.25,
          31.7,
          31.15,
          30.6,
          30.05,
          29.5,
          28.95,
          28.4,
          27.85,
          27.3,
          26.75,
          26.2,
          25.65,
          25.1,
          24.55,
          24
         ]
        },
        {
         "mode": "lines+markers",
         "name": "Global Net-zero - Canadian Light Sweet (CLS)",
         "type": "scatter",
         "visible": false,
         "x": [
          2005,
          2006,
          2007,
          2008,
          2009,
          2010,
          2011,
          2012,
          2013,
          2014,
          2015,
          2016,
          2017,
          2018,
          2019,
          2020,
          2021,
          2022,
          2023,
          2024,
          2025,
          2026,
          2027,
          2028,
          2029,
          2030,
          2031,
          2032,
          2033,
          2034,
          2035,
          2036,
          2037,
          2038,
          2039,
          2040,
          2041,
          2042,
          2043,
          2044,
          2045,
          2046,
          2047,
          2048,
          2049,
          2050
         ],
         "y": [
          65.7579446012748,
          74.3952768227681,
          82.3612303338737,
          110.793138099574,
          66.8933553332186,
          87.1363563637734,
          111.477519963389,
          100.300214698307,
          104.66530554729,
          97.9250801991823,
          69.5929831266362,
          63.3302290379649,
          72.7811846819254,
          78.7070695937494,
          77.7671165578603,
          50.5954436433972,
          85.9314966663854,
          119.73,
          103.95,
          96.285,
          72.3333333333333,
          69.6666666666667,
          67,
          64.3333333333333,
          61.6666666666666,
          59,
          58.8,
          58.6,
          58.4,
          58.2,
          58,
          57.8,
          57.6,
          57.4,
          57.2,
          57,
          56.8,
          56.6,
          56.4,
          56.2,
          56,
          55.8,
          55.6,
          55.3999999999999,
          55.1999999999999,
          55
         ]
        },
        {
         "mode": "lines+markers",
         "name": "Global Net-zero - West Texas Intermediate (WTI)",
         "type": "scatter",
         "visible": false,
         "x": [
          2005,
          2006,
          2007,
          2008,
          2009,
          2010,
          2011,
          2012,
          2013,
          2014,
          2015,
          2016,
          2017,
          2018,
          2019,
          2020,
          2021,
          2022,
          2023,
          2024,
          2025,
          2026,
          2027,
          2028,
          2029,
          2030,
          2031,
          2032,
          2033,
          2034,
          2035,
          2036,
          2037,
          2038,
          2039,
          2040,
          2041,
          2042,
          2043,
          2044,
          2045,
          2046,
          2047,
          2048,
          2049,
          2050
         ],
         "y": [
          83.8725402193511,
          94.7953061950207,
          100.959932609239,
          133.895158117158,
          83.5443726850737,
          105.464859574605,
          122.544423314893,
          119.045274800294,
          122.003078854833,
          114.046957716327,
          58.9571886644627,
          51.9715686404359,
          59.7664732416328,
          74.7768874064137,
          64.352373640663,
          43.662117812555,
          72.984527301882,
          94.91,
          80,
          76,
          70,
          62.5,
          55,
          47.5,
          40,
          32.5,
          31.95,
          31.4,
          30.85,
          30.3,
          29.75,
          29.2,
          28.65,
          28.1,
          27.55,
          27,
          26.45,
          25.9,
          25.35,
          24.8,
          24.25,
          23.7,
          23.15,
          22.6,
          22.05,
          21.5
         ]
        },
        {
         "mode": "lines+markers",
         "name": "Global Net-zero - Western Canadian Select (WCS)",
         "type": "scatter",
         "visible": false,
         "x": [
          2005,
          2006,
          2007,
          2008,
          2009,
          2010,
          2011,
          2012,
          2013,
          2014,
          2015,
          2016,
          2017,
          2018,
          2019,
          2020,
          2021,
          2022,
          2023,
          2024,
          2025,
          2026,
          2027,
          2028,
          2029,
          2030,
          2031,
          2032,
          2033,
          2034,
          2035,
          2036,
          2037,
          2038,
          2039,
          2040,
          2041,
          2042,
          2043,
          2044,
          2045,
          2046,
          2047,
          2048,
          2049,
          2050
         ],
         "y": [
          54.3307758303938,
          65.3548664552633,
          69.9433316597046,
          107.483199559043,
          70.6085924705493,
          87.0800648919957,
          101.243730394196,
          93.3088139035118,
          91.7070087440543,
          88.4906295292333,
          42.4262053085169,
          35.0722346674421,
          45.4763599082138,
          46.2675968702545,
          49.8964862436196,
          29.6056373661847,
          58.8327407882522,
          78.1846153846154,
          63,
          61,
          57.5,
          50,
          42.5,
          35,
          27.5,
          20,
          19.45,
          18.9,
          18.35,
          17.8,
          18,
          17.95,
          17.75,
          17.6,
          17.3,
          17,
          16.45,
          15.9,
          15.35,
          14.8,
          14.25,
          13.7,
          13.15,
          12.6,
          12.05,
          11.5
         ]
        }
       ],
       "layout": {
        "autosize": true,
        "legend": {
         "orientation": "h",
         "x": 0,
         "xanchor": "left",
         "y": -0.2,
         "yanchor": "top"
        },
        "template": {
         "data": {
          "bar": [
           {
            "error_x": {
             "color": "#2a3f5f"
            },
            "error_y": {
             "color": "#2a3f5f"
            },
            "marker": {
             "line": {
              "color": "#E5ECF6",
              "width": 0.5
             },
             "pattern": {
              "fillmode": "overlay",
              "size": 10,
              "solidity": 0.2
             }
            },
            "type": "bar"
           }
          ],
          "barpolar": [
           {
            "marker": {
             "line": {
              "color": "#E5ECF6",
              "width": 0.5
             },
             "pattern": {
              "fillmode": "overlay",
              "size": 10,
              "solidity": 0.2
             }
            },
            "type": "barpolar"
           }
          ],
          "carpet": [
           {
            "aaxis": {
             "endlinecolor": "#2a3f5f",
             "gridcolor": "white",
             "linecolor": "white",
             "minorgridcolor": "white",
             "startlinecolor": "#2a3f5f"
            },
            "baxis": {
             "endlinecolor": "#2a3f5f",
             "gridcolor": "white",
             "linecolor": "white",
             "minorgridcolor": "white",
             "startlinecolor": "#2a3f5f"
            },
            "type": "carpet"
           }
          ],
          "choropleth": [
           {
            "colorbar": {
             "outlinewidth": 0,
             "ticks": ""
            },
            "type": "choropleth"
           }
          ],
          "contour": [
           {
            "colorbar": {
             "outlinewidth": 0,
             "ticks": ""
            },
            "colorscale": [
             [
              0,
              "#0d0887"
             ],
             [
              0.1111111111111111,
              "#46039f"
             ],
             [
              0.2222222222222222,
              "#7201a8"
             ],
             [
              0.3333333333333333,
              "#9c179e"
             ],
             [
              0.4444444444444444,
              "#bd3786"
             ],
             [
              0.5555555555555556,
              "#d8576b"
             ],
             [
              0.6666666666666666,
              "#ed7953"
             ],
             [
              0.7777777777777778,
              "#fb9f3a"
             ],
             [
              0.8888888888888888,
              "#fdca26"
             ],
             [
              1,
              "#f0f921"
             ]
            ],
            "type": "contour"
           }
          ],
          "contourcarpet": [
           {
            "colorbar": {
             "outlinewidth": 0,
             "ticks": ""
            },
            "type": "contourcarpet"
           }
          ],
          "heatmap": [
           {
            "colorbar": {
             "outlinewidth": 0,
             "ticks": ""
            },
            "colorscale": [
             [
              0,
              "#0d0887"
             ],
             [
              0.1111111111111111,
              "#46039f"
             ],
             [
              0.2222222222222222,
              "#7201a8"
             ],
             [
              0.3333333333333333,
              "#9c179e"
             ],
             [
              0.4444444444444444,
              "#bd3786"
             ],
             [
              0.5555555555555556,
              "#d8576b"
             ],
             [
              0.6666666666666666,
              "#ed7953"
             ],
             [
              0.7777777777777778,
              "#fb9f3a"
             ],
             [
              0.8888888888888888,
              "#fdca26"
             ],
             [
              1,
              "#f0f921"
             ]
            ],
            "type": "heatmap"
           }
          ],
          "heatmapgl": [
           {
            "colorbar": {
             "outlinewidth": 0,
             "ticks": ""
            },
            "colorscale": [
             [
              0,
              "#0d0887"
             ],
             [
              0.1111111111111111,
              "#46039f"
             ],
             [
              0.2222222222222222,
              "#7201a8"
             ],
             [
              0.3333333333333333,
              "#9c179e"
             ],
             [
              0.4444444444444444,
              "#bd3786"
             ],
             [
              0.5555555555555556,
              "#d8576b"
             ],
             [
              0.6666666666666666,
              "#ed7953"
             ],
             [
              0.7777777777777778,
              "#fb9f3a"
             ],
             [
              0.8888888888888888,
              "#fdca26"
             ],
             [
              1,
              "#f0f921"
             ]
            ],
            "type": "heatmapgl"
           }
          ],
          "histogram": [
           {
            "marker": {
             "pattern": {
              "fillmode": "overlay",
              "size": 10,
              "solidity": 0.2
             }
            },
            "type": "histogram"
           }
          ],
          "histogram2d": [
           {
            "colorbar": {
             "outlinewidth": 0,
             "ticks": ""
            },
            "colorscale": [
             [
              0,
              "#0d0887"
             ],
             [
              0.1111111111111111,
              "#46039f"
             ],
             [
              0.2222222222222222,
              "#7201a8"
             ],
             [
              0.3333333333333333,
              "#9c179e"
             ],
             [
              0.4444444444444444,
              "#bd3786"
             ],
             [
              0.5555555555555556,
              "#d8576b"
             ],
             [
              0.6666666666666666,
              "#ed7953"
             ],
             [
              0.7777777777777778,
              "#fb9f3a"
             ],
             [
              0.8888888888888888,
              "#fdca26"
             ],
             [
              1,
              "#f0f921"
             ]
            ],
            "type": "histogram2d"
           }
          ],
          "histogram2dcontour": [
           {
            "colorbar": {
             "outlinewidth": 0,
             "ticks": ""
            },
            "colorscale": [
             [
              0,
              "#0d0887"
             ],
             [
              0.1111111111111111,
              "#46039f"
             ],
             [
              0.2222222222222222,
              "#7201a8"
             ],
             [
              0.3333333333333333,
              "#9c179e"
             ],
             [
              0.4444444444444444,
              "#bd3786"
             ],
             [
              0.5555555555555556,
              "#d8576b"
             ],
             [
              0.6666666666666666,
              "#ed7953"
             ],
             [
              0.7777777777777778,
              "#fb9f3a"
             ],
             [
              0.8888888888888888,
              "#fdca26"
             ],
             [
              1,
              "#f0f921"
             ]
            ],
            "type": "histogram2dcontour"
           }
          ],
          "mesh3d": [
           {
            "colorbar": {
             "outlinewidth": 0,
             "ticks": ""
            },
            "type": "mesh3d"
           }
          ],
          "parcoords": [
           {
            "line": {
             "colorbar": {
              "outlinewidth": 0,
              "ticks": ""
             }
            },
            "type": "parcoords"
           }
          ],
          "pie": [
           {
            "automargin": true,
            "type": "pie"
           }
          ],
          "scatter": [
           {
            "fillpattern": {
             "fillmode": "overlay",
             "size": 10,
             "solidity": 0.2
            },
            "type": "scatter"
           }
          ],
          "scatter3d": [
           {
            "line": {
             "colorbar": {
              "outlinewidth": 0,
              "ticks": ""
             }
            },
            "marker": {
             "colorbar": {
              "outlinewidth": 0,
              "ticks": ""
             }
            },
            "type": "scatter3d"
           }
          ],
          "scattercarpet": [
           {
            "marker": {
             "colorbar": {
              "outlinewidth": 0,
              "ticks": ""
             }
            },
            "type": "scattercarpet"
           }
          ],
          "scattergeo": [
           {
            "marker": {
             "colorbar": {
              "outlinewidth": 0,
              "ticks": ""
             }
            },
            "type": "scattergeo"
           }
          ],
          "scattergl": [
           {
            "marker": {
             "colorbar": {
              "outlinewidth": 0,
              "ticks": ""
             }
            },
            "type": "scattergl"
           }
          ],
          "scattermapbox": [
           {
            "marker": {
             "colorbar": {
              "outlinewidth": 0,
              "ticks": ""
             }
            },
            "type": "scattermapbox"
           }
          ],
          "scatterpolar": [
           {
            "marker": {
             "colorbar": {
              "outlinewidth": 0,
              "ticks": ""
             }
            },
            "type": "scatterpolar"
           }
          ],
          "scatterpolargl": [
           {
            "marker": {
             "colorbar": {
              "outlinewidth": 0,
              "ticks": ""
             }
            },
            "type": "scatterpolargl"
           }
          ],
          "scatterternary": [
           {
            "marker": {
             "colorbar": {
              "outlinewidth": 0,
              "ticks": ""
             }
            },
            "type": "scatterternary"
           }
          ],
          "surface": [
           {
            "colorbar": {
             "outlinewidth": 0,
             "ticks": ""
            },
            "colorscale": [
             [
              0,
              "#0d0887"
             ],
             [
              0.1111111111111111,
              "#46039f"
             ],
             [
              0.2222222222222222,
              "#7201a8"
             ],
             [
              0.3333333333333333,
              "#9c179e"
             ],
             [
              0.4444444444444444,
              "#bd3786"
             ],
             [
              0.5555555555555556,
              "#d8576b"
             ],
             [
              0.6666666666666666,
              "#ed7953"
             ],
             [
              0.7777777777777778,
              "#fb9f3a"
             ],
             [
              0.8888888888888888,
              "#fdca26"
             ],
             [
              1,
              "#f0f921"
             ]
            ],
            "type": "surface"
           }
          ],
          "table": [
           {
            "cells": {
             "fill": {
              "color": "#EBF0F8"
             },
             "line": {
              "color": "white"
             }
            },
            "header": {
             "fill": {
              "color": "#C8D4E3"
             },
             "line": {
              "color": "white"
             }
            },
            "type": "table"
           }
          ]
         },
         "layout": {
          "annotationdefaults": {
           "arrowcolor": "#2a3f5f",
           "arrowhead": 0,
           "arrowwidth": 1
          },
          "autotypenumbers": "strict",
          "coloraxis": {
           "colorbar": {
            "outlinewidth": 0,
            "ticks": ""
           }
          },
          "colorscale": {
           "diverging": [
            [
             0,
             "#8e0152"
            ],
            [
             0.1,
             "#c51b7d"
            ],
            [
             0.2,
             "#de77ae"
            ],
            [
             0.3,
             "#f1b6da"
            ],
            [
             0.4,
             "#fde0ef"
            ],
            [
             0.5,
             "#f7f7f7"
            ],
            [
             0.6,
             "#e6f5d0"
            ],
            [
             0.7,
             "#b8e186"
            ],
            [
             0.8,
             "#7fbc41"
            ],
            [
             0.9,
             "#4d9221"
            ],
            [
             1,
             "#276419"
            ]
           ],
           "sequential": [
            [
             0,
             "#0d0887"
            ],
            [
             0.1111111111111111,
             "#46039f"
            ],
            [
             0.2222222222222222,
             "#7201a8"
            ],
            [
             0.3333333333333333,
             "#9c179e"
            ],
            [
             0.4444444444444444,
             "#bd3786"
            ],
            [
             0.5555555555555556,
             "#d8576b"
            ],
            [
             0.6666666666666666,
             "#ed7953"
            ],
            [
             0.7777777777777778,
             "#fb9f3a"
            ],
            [
             0.8888888888888888,
             "#fdca26"
            ],
            [
             1,
             "#f0f921"
            ]
           ],
           "sequentialminus": [
            [
             0,
             "#0d0887"
            ],
            [
             0.1111111111111111,
             "#46039f"
            ],
            [
             0.2222222222222222,
             "#7201a8"
            ],
            [
             0.3333333333333333,
             "#9c179e"
            ],
            [
             0.4444444444444444,
             "#bd3786"
            ],
            [
             0.5555555555555556,
             "#d8576b"
            ],
            [
             0.6666666666666666,
             "#ed7953"
            ],
            [
             0.7777777777777778,
             "#fb9f3a"
            ],
            [
             0.8888888888888888,
             "#fdca26"
            ],
            [
             1,
             "#f0f921"
            ]
           ]
          },
          "colorway": [
           "#636efa",
           "#EF553B",
           "#00cc96",
           "#ab63fa",
           "#FFA15A",
           "#19d3f3",
           "#FF6692",
           "#B6E880",
           "#FF97FF",
           "#FECB52"
          ],
          "font": {
           "color": "#2a3f5f"
          },
          "geo": {
           "bgcolor": "white",
           "lakecolor": "white",
           "landcolor": "#E5ECF6",
           "showlakes": true,
           "showland": true,
           "subunitcolor": "white"
          },
          "hoverlabel": {
           "align": "left"
          },
          "hovermode": "closest",
          "mapbox": {
           "style": "light"
          },
          "paper_bgcolor": "white",
          "plot_bgcolor": "#E5ECF6",
          "polar": {
           "angularaxis": {
            "gridcolor": "white",
            "linecolor": "white",
            "ticks": ""
           },
           "bgcolor": "#E5ECF6",
           "radialaxis": {
            "gridcolor": "white",
            "linecolor": "white",
            "ticks": ""
           }
          },
          "scene": {
           "xaxis": {
            "backgroundcolor": "#E5ECF6",
            "gridcolor": "white",
            "gridwidth": 2,
            "linecolor": "white",
            "showbackground": true,
            "ticks": "",
            "zerolinecolor": "white"
           },
           "yaxis": {
            "backgroundcolor": "#E5ECF6",
            "gridcolor": "white",
            "gridwidth": 2,
            "linecolor": "white",
            "showbackground": true,
            "ticks": "",
            "zerolinecolor": "white"
           },
           "zaxis": {
            "backgroundcolor": "#E5ECF6",
            "gridcolor": "white",
            "gridwidth": 2,
            "linecolor": "white",
            "showbackground": true,
            "ticks": "",
            "zerolinecolor": "white"
           }
          },
          "shapedefaults": {
           "line": {
            "color": "#2a3f5f"
           }
          },
          "ternary": {
           "aaxis": {
            "gridcolor": "white",
            "linecolor": "white",
            "ticks": ""
           },
           "baxis": {
            "gridcolor": "white",
            "linecolor": "white",
            "ticks": ""
           },
           "bgcolor": "#E5ECF6",
           "caxis": {
            "gridcolor": "white",
            "linecolor": "white",
            "ticks": ""
           }
          },
          "title": {
           "x": 0.05
          },
          "xaxis": {
           "automargin": true,
           "gridcolor": "white",
           "linecolor": "white",
           "ticks": "",
           "title": {
            "standoff": 15
           },
           "zerolinecolor": "white",
           "zerolinewidth": 2
          },
          "yaxis": {
           "automargin": true,
           "gridcolor": "white",
           "linecolor": "white",
           "ticks": "",
           "title": {
            "standoff": 15
           },
           "zerolinecolor": "white",
           "zerolinewidth": 2
          }
         }
        },
        "title": {
         "text": "Oil Prices Over Time by Scenario and Variable"
        },
        "updatemenus": [
         {
          "active": 0,
          "buttons": [
           {
            "args": [
             {
              "visible": [
               true,
               true,
               true,
               true,
               false,
               false,
               false,
               false,
               false,
               false,
               false,
               false
              ]
             }
            ],
            "label": "Current Measures",
            "method": "update"
           },
           {
            "args": [
             {
              "visible": [
               false,
               false,
               false,
               false,
               true,
               true,
               true,
               true,
               false,
               false,
               false,
               false
              ]
             }
            ],
            "label": "Canada Net-zero",
            "method": "update"
           },
           {
            "args": [
             {
              "visible": [
               false,
               false,
               false,
               false,
               false,
               false,
               false,
               false,
               true,
               true,
               true,
               true
              ]
             }
            ],
            "label": "Global Net-zero",
            "method": "update"
           }
          ],
          "direction": "down",
          "showactive": true,
          "x": 0.5,
          "xanchor": "center",
          "y": 1.12,
          "yanchor": "top"
         }
        ],
        "xaxis": {
         "autorange": true,
         "range": [
          2002.3403168114462,
          2052.659683188554
         ],
         "title": {
          "text": "Year"
         },
         "type": "linear"
        },
        "yaxis": {
         "autorange": true,
         "range": [
          20.236639756839686,
          152.504841300534
         ],
         "title": {
          "text": "Price(2022 US $/bbl)"
         },
         "type": "linear"
        }
       }
      },
      "image/png": "[encoded data removed]",
      "text/html": [
       "<div>                            <div id=\"e80969c1-6fc4-4bb6-bb6d-1f0b919f2dc4\" class=\"plotly-graph-div\" style=\"height:525px; width:100%;\"></div>            <script type=\"text/javascript\">                require([\"plotly\"], function(Plotly) {                    window.PLOTLYENV=window.PLOTLYENV || {};                                    if (document.getElementById(\"e80969c1-6fc4-4bb6-bb6d-1f0b919f2dc4\")) {                    Plotly.newPlot(                        \"e80969c1-6fc4-4bb6-bb6d-1f0b919f2dc4\",                        [{\"mode\":\"lines+markers\",\"name\":\"Current Measures - Brent\",\"visible\":true,\"x\":[2005,2006,2007,2008,2009,2010,2011,2012,2013,2014,2015,2016,2017,2018,2019,2020,2021,2022,2023,2024,2025,2026,2027,2028,2029,2030,2031,2032,2033,2034,2035,2036,2037,2038,2039,2040,2041,2042,2043,2044,2045,2046,2047,2048,2049,2050],\"y\":[80.8665756264198,93.5456355215549,101.095032141505,130.315020512094,83.262915326185,105.633733989938,143.135843691189,140.694974846012,134.848792714513,120.982067039344,63.3786749727695,52.463337464405,63.7320769987563,81.8328285263673,72.6518989303432,46.4711179883946,75.8521205164993,100.94,85.0,80.0,79.1666666666667,78.3333333333333,77.5,76.6666666666667,75.8333333333334,75.0,75.0,75.0,75.0,75.0,75.0,75.0,75.0,75.0,75.0,75.0,75.0,75.0,75.0,75.0,75.0,75.0,75.0,75.0,75.0,75.0],\"type\":\"scatter\"},{\"mode\":\"lines+markers\",\"name\":\"Current Measures - Canadian Light Sweet (CLS)\",\"visible\":true,\"x\":[2005,2006,2007,2008,2009,2010,2011,2012,2013,2014,2015,2016,2017,2018,2019,2020,2021,2022,2023,2024,2025,2026,2027,2028,2029,2030,2031,2032,2033,2034,2035,2036,2037,2038,2039,2040,2041,2042,2043,2044,2045,2046,2047,2048,2049,2050],\"y\":[65.7579446012748,74.3952768227681,82.3612303338737,110.793138099574,66.8933553332186,87.1363563637734,111.477519963389,100.300214698307,104.66530554729,97.9250801991823,69.5929831266362,63.3302290379649,72.7811846819254,78.7070695937494,77.7671165578603,50.5954436433972,85.9314966663854,119.73,103.95,96.285,96.4166666666667,94.6,92.8,91.7333333333334,90.6666666666667,88.9,88.9,88.2,88.9,88.9,88.9,89.6,89.6,90.3,90.3,90.3,90.3,91.0,91.0,91.0,91.0,91.0,90.3,90.3,90.3,89.6],\"type\":\"scatter\"},{\"mode\":\"lines+markers\",\"name\":\"Current Measures - West Texas Intermediate (WTI)\",\"visible\":true,\"x\":[2005,2006,2007,2008,2009,2010,2011,2012,2013,2014,2015,2016,2017,2018,2019,2020,2021,2022,2023,2024,2025,2026,2027,2028,2029,2030,2031,2032,2033,2034,2035,2036,2037,2038,2039,2040,2041,2042,2043,2044,2045,2046,2047,2048,2049,2050],\"y\":[83.8725402193511,94.7953061950207,100.959932609239,133.895158117158,83.5443726850737,105.464859574605,122.544423314893,119.045274800294,122.003078854833,114.046957716327,58.9571886644627,51.9715686404359,59.7664732416328,74.7768874064137,64.352373640663,43.662117812555,72.984527301882,94.91,80.0,76.0,76.6666666666667,75.8333333333333,75.0,74.1666666666667,73.3333333333334,72.5,72.5,72.5,72.5,72.5,72.5,72.5,72.5,72.5,72.5,72.5,72.5,72.5,72.5,72.5,72.5,72.5,72.5,72.5,72.5,72.5],\"type\":\"scatter\"},{\"mode\":\"lines+markers\",\"name\":\"Current Measures - Western Canadian Select (WCS)\",\"visible\":true,\"x\":[2005,2006,2007,2008,2009,2010,2011,2012,2013,2014,2015,2016,2017,2018,2019,2020,2021,2022,2023,2024,2025,2026,2027,2028,2029,2030,2031,2032,2033,2034,2035,2036,2037,2038,2039,2040,2041,2042,2043,2044,2045,2046,2047,2048,2049,2050],\"y\":[54.3307758303938,65.3548664552633,69.9433316597046,107.483199559043,70.6085924705493,87.0800648919957,101.243730394196,93.3088139035118,91.7070087440543,88.4906295292333,42.4262053085169,35.0722346674421,45.4763599082138,46.2675968702545,49.8964862436196,29.6056373661847,58.8327407882522,78.1846153846154,63.0,61.0,64.1666666666667,63.3333333333333,62.5,61.6666666666667,60.8333333333334,60.0,60.0,60.0,60.0,60.0,60.0,60.0,60.0,60.0,60.0,60.0,60.0,60.0,60.0,60.0,60.0,60.0,60.0,60.0,60.0,60.0],\"type\":\"scatter\"},{\"mode\":\"lines+markers\",\"name\":\"Canada Net-zero - Brent\",\"visible\":false,\"x\":[2005,2006,2007,2008,2009,2010,2011,2012,2013,2014,2015,2016,2017,2018,2019,2020,2021,2022,2023,2024,2025,2026,2027,2028,2029,2030,2031,2032,2033,2034,2035,2036,2037,2038,2039,2040,2041,2042,2043,2044,2045,2046,2047,2048,2049,2050],\"y\":[80.8665756264198,93.5456355215549,101.095032141505,130.315020512094,83.262915326185,105.633733989938,143.135843691189,140.694974846012,134.848792714513,120.982067039344,63.3786749727695,52.463337464405,63.7320769987563,81.8328285263673,72.6518989303432,46.4711179883946,75.8521205164993,100.94,85.0,80.0,77.3333333333333,74.6666666666667,72.0,69.3333333333333,66.6666666666666,64.0,63.8,63.6,63.4,63.2,63.0,62.8,62.6,62.4,62.2,62.0,61.8,61.6,61.4,61.2,61.0,60.8,60.6,60.3999999999999,60.1999999999999,60.0],\"type\":\"scatter\"},{\"mode\":\"lines+markers\",\"name\":\"Canada Net-zero - Canadian Light Sweet (CLS)\",\"visible\":false,\"x\":[2005,2006,2007,2008,2009,2010,2011,2012,2013,2014,2015,2016,2017,2018,2019,2020,2021,2022,2023,2024,2025,2026,2027,2028,2029,2030,2031,2032,2033,2034,2035,2036,2037,2038,2039,2040,2041,2042,2043,2044,2045,2046,2047,2048,2049,2050],\"y\":[65.7579446012748,74.3952768227681,82.3612303338737,110.793138099574,66.8933553332186,87.1363563637734,111.477519963389,100.300214698307,104.66530554729,97.9250801991823,69.5929831266362,63.3302290379649,72.7811846819254,78.7070695937494,77.7671165578603,50.5954436433972,85.9314966663854,119.73,103.95,96.285,94.0333333333333,89.87,86.43,82.3466666666666,79.55,76.11,75.852,75.594,75.92,75.66,75.98,76.296,76.032,76.342,76.076,75.81,76.112,75.844,75.576,75.308,75.0399999999999,74.7719999999999,74.5039999999999,73.6819999999999,73.4159999999999,72.6],\"type\":\"scatter\"},{\"mode\":\"lines+markers\",\"name\":\"Canada Net-zero - West Texas Intermediate (WTI)\",\"visible\":false,\"x\":[2005,2006,2007,2008,2009,2010,2011,2012,2013,2014,2015,2016,2017,2018,2019,2020,2021,2022,2023,2024,2025,2026,2027,2028,2029,2030,2031,2032,2033,2034,2035,2036,2037,2038,2039,2040,2041,2042,2043,2044,2045,2046,2047,2048,2049,2050],\"y\":[83.8725402193511,94.7953061950207,100.959932609239,133.895158117158,83.5443726850737,105.464859574605,122.544423314893,119.045274800294,122.003078854833,114.046957716327,58.9571886644627,51.9715686404359,59.7664732416328,74.7768874064137,64.352373640663,43.662117812555,72.984527301882,94.91,80.0,76.0,74.8333333333333,72.1666666666667,69.5,66.8333333333333,64.1666666666666,61.5,61.3,61.1,60.9,60.7,60.5,60.3,60.1,59.9,59.7,59.5,59.3,59.1,58.9,58.7,58.5,58.3,58.1,57.8999999999999,57.6999999999999,57.5],\"type\":\"scatter\"},{\"mode\":\"lines+markers\",\"name\":\"Canada Net-zero - Western Canadian Select (WCS)\",\"visible\":false,\"x\":[2005,2006,2007,2008,2009,2010,2011,2012,2013,2014,2015,2016,2017,2018,2019,2020,2021,2022,2023,2024,2025,2026,2027,2028,2029,2030,2031,2032,2033,2034,2035,2036,2037,2038,2039,2040,2041,2042,2043,2044,2045,2046,2047,2048,2049,2050],\"y\":[54.3307758303938,65.3548664552633,69.9433316597046,107.483199559043,70.6085924705493,87.0800648919957,101.243730394196,93.3088139035118,91.7070087440543,88.4906295292333,42.4262053085169,35.0722346674421,45.4763599082138,46.2675968702545,49.8964862436196,29.6056373661847,58.8327407882522,78.1846153846154,63.0,61.0,62.3333333333333,59.6666666666667,57.0,54.3333333333333,51.6666666666666,49.0,48.8,48.6,48.4,48.2,48.0,47.8,47.6,47.4,47.2,47.0,46.8,46.6,46.4,46.2,46.0,45.8,45.6,45.3999999999999,45.1999999999999,45.0],\"type\":\"scatter\"},{\"mode\":\"lines+markers\",\"name\":\"Global Net-zero - Brent\",\"visible\":false,\"x\":[2005,2006,2007,2008,2009,2010,2011,2012,2013,2014,2015,2016,2017,2018,2019,2020,2021,2022,2023,2024,2025,2026,2027,2028,2029,2030,2031,2032,2033,2034,2035,2036,2037,2038,2039,2040,2041,2042,2043,2044,2045,2046,2047,2048,2049,2050],\"y\":[80.8665756264198,93.5456355215549,101.095032141505,130.315020512094,83.262915326185,105.633733989938,143.135843691189,140.694974846012,134.848792714513,120.982067039344,63.3786749727695,52.463337464405,63.7320769987563,81.8328285263673,72.6518989303432,46.4711179883946,75.8521205164993,100.94,85.0,80.0,72.5,65.0,57.5,50.0,42.5,35.0,34.45,33.9,33.35,32.8,32.25,31.7,31.15,30.6,30.05,29.5,28.95,28.4,27.85,27.3,26.75,26.2,25.65,25.1,24.55,24.0],\"type\":\"scatter\"},{\"mode\":\"lines+markers\",\"name\":\"Global Net-zero - Canadian Light Sweet (CLS)\",\"visible\":false,\"x\":[2005,2006,2007,2008,2009,2010,2011,2012,2013,2014,2015,2016,2017,2018,2019,2020,2021,2022,2023,2024,2025,2026,2027,2028,2029,2030,2031,2032,2033,2034,2035,2036,2037,2038,2039,2040,2041,2042,2043,2044,2045,2046,2047,2048,2049,2050],\"y\":[65.7579446012748,74.3952768227681,82.3612303338737,110.793138099574,66.8933553332186,87.1363563637734,111.477519963389,100.300214698307,104.66530554729,97.9250801991823,69.5929831266362,63.3302290379649,72.7811846819254,78.7070695937494,77.7671165578603,50.5954436433972,85.9314966663854,119.73,103.95,96.285,72.3333333333333,69.6666666666667,67.0,64.3333333333333,61.6666666666666,59.0,58.8,58.6,58.4,58.2,58.0,57.8,57.6,57.4,57.2,57.0,56.8,56.6,56.4,56.2,56.0,55.8,55.6,55.3999999999999,55.1999999999999,55.0],\"type\":\"scatter\"},{\"mode\":\"lines+markers\",\"name\":\"Global Net-zero - West Texas Intermediate (WTI)\",\"visible\":false,\"x\":[2005,2006,2007,2008,2009,2010,2011,2012,2013,2014,2015,2016,2017,2018,2019,2020,2021,2022,2023,2024,2025,2026,2027,2028,2029,2030,2031,2032,2033,2034,2035,2036,2037,2038,2039,2040,2041,2042,2043,2044,2045,2046,2047,2048,2049,2050],\"y\":[83.8725402193511,94.7953061950207,100.959932609239,133.895158117158,83.5443726850737,105.464859574605,122.544423314893,119.045274800294,122.003078854833,114.046957716327,58.9571886644627,51.9715686404359,59.7664732416328,74.7768874064137,64.352373640663,43.662117812555,72.984527301882,94.91,80.0,76.0,70.0,62.5,55.0,47.5,40.0,32.5,31.95,31.4,30.85,30.3,29.75,29.2,28.65,28.1,27.55,27.0,26.45,25.9,25.35,24.8,24.25,23.7,23.15,22.6,22.05,21.5],\"type\":\"scatter\"},{\"mode\":\"lines+markers\",\"name\":\"Global Net-zero - Western Canadian Select (WCS)\",\"visible\":false,\"x\":[2005,2006,2007,2008,2009,2010,2011,2012,2013,2014,2015,2016,2017,2018,2019,2020,2021,2022,2023,2024,2025,2026,2027,2028,2029,2030,2031,2032,2033,2034,2035,2036,2037,2038,2039,2040,2041,2042,2043,2044,2045,2046,2047,2048,2049,2050],\"y\":[54.3307758303938,65.3548664552633,69.9433316597046,107.483199559043,70.6085924705493,87.0800648919957,101.243730394196,93.3088139035118,91.7070087440543,88.4906295292333,42.4262053085169,35.0722346674421,45.4763599082138,46.2675968702545,49.8964862436196,29.6056373661847,58.8327407882522,78.1846153846154,63.0,61.0,57.5,50.0,42.5,35.0,27.5,20.0,19.45,18.9,18.35,17.8,18.0,17.95,17.75,17.6,17.3,17.0,16.45,15.9,15.35,14.8,14.25,13.7,13.15,12.6,12.05,11.5],\"type\":\"scatter\"}],                        {\"autosize\":true,\"legend\":{\"orientation\":\"h\",\"x\":0,\"xanchor\":\"left\",\"y\":-0.2,\"yanchor\":\"top\"},\"title\":{\"text\":\"Oil Prices Over Time by Scenario and Variable\"},\"updatemenus\":[{\"buttons\":[{\"args\":[{\"visible\":[true,true,true,true,false,false,false,false,false,false,false,false]}],\"label\":\"Current Measures\",\"method\":\"update\"},{\"args\":[{\"visible\":[false,false,false,false,true,true,true,true,false,false,false,false]}],\"label\":\"Canada Net-zero\",\"method\":\"update\"},{\"args\":[{\"visible\":[false,false,false,false,false,false,false,false,true,true,true,true]}],\"label\":\"Global Net-zero\",\"method\":\"update\"}],\"direction\":\"down\",\"showactive\":true,\"x\":0.5,\"xanchor\":\"center\",\"y\":1.12,\"yanchor\":\"top\",\"active\":0}],\"xaxis\":{\"title\":{\"text\":\"Year\"}},\"yaxis\":{\"title\":{\"text\":\"Price(2022 US $\\u002fbbl)\"}},\"template\":{\"data\":{\"histogram2dcontour\":[{\"type\":\"histogram2dcontour\",\"colorbar\":{\"outlinewidth\":0,\"ticks\":\"\"},\"colorscale\":[[0.0,\"#0d0887\"],[0.1111111111111111,\"#46039f\"],[0.2222222222222222,\"#7201a8\"],[0.3333333333333333,\"#9c179e\"],[0.4444444444444444,\"#bd3786\"],[0.5555555555555556,\"#d8576b\"],[0.6666666666666666,\"#ed7953\"],[0.7777777777777778,\"#fb9f3a\"],[0.8888888888888888,\"#fdca26\"],[1.0,\"#f0f921\"]]}],\"choropleth\":[{\"type\":\"choropleth\",\"colorbar\":{\"outlinewidth\":0,\"ticks\":\"\"}}],\"histogram2d\":[{\"type\":\"histogram2d\",\"colorbar\":{\"outlinewidth\":0,\"ticks\":\"\"},\"colorscale\":[[0.0,\"#0d0887\"],[0.1111111111111111,\"#46039f\"],[0.2222222222222222,\"#7201a8\"],[0.3333333333333333,\"#9c179e\"],[0.4444444444444444,\"#bd3786\"],[0.5555555555555556,\"#d8576b\"],[0.6666666666666666,\"#ed7953\"],[0.7777777777777778,\"#fb9f3a\"],[0.8888888888888888,\"#fdca26\"],[1.0,\"#f0f921\"]]}],\"heatmap\":[{\"type\":\"heatmap\",\"colorbar\":{\"outlinewidth\":0,\"ticks\":\"\"},\"colorscale\":[[0.0,\"#0d0887\"],[0.1111111111111111,\"#46039f\"],[0.2222222222222222,\"#7201a8\"],[0.3333333333333333,\"#9c179e\"],[0.4444444444444444,\"#bd3786\"],[0.5555555555555556,\"#d8576b\"],[0.6666666666666666,\"#ed7953\"],[0.7777777777777778,\"#fb9f3a\"],[0.8888888888888888,\"#fdca26\"],[1.0,\"#f0f921\"]]}],\"heatmapgl\":[{\"type\":\"heatmapgl\",\"colorbar\":{\"outlinewidth\":0,\"ticks\":\"\"},\"colorscale\":[[0.0,\"#0d0887\"],[0.1111111111111111,\"#46039f\"],[0.2222222222222222,\"#7201a8\"],[0.3333333333333333,\"#9c179e\"],[0.4444444444444444,\"#bd3786\"],[0.5555555555555556,\"#d8576b\"],[0.6666666666666666,\"#ed7953\"],[0.7777777777777778,\"#fb9f3a\"],[0.8888888888888888,\"#fdca26\"],[1.0,\"#f0f921\"]]}],\"contourcarpet\":[{\"type\":\"contourcarpet\",\"colorbar\":{\"outlinewidth\":0,\"ticks\":\"\"}}],\"contour\":[{\"type\":\"contour\",\"colorbar\":{\"outlinewidth\":0,\"ticks\":\"\"},\"colorscale\":[[0.0,\"#0d0887\"],[0.1111111111111111,\"#46039f\"],[0.2222222222222222,\"#7201a8\"],[0.3333333333333333,\"#9c179e\"],[0.4444444444444444,\"#bd3786\"],[0.5555555555555556,\"#d8576b\"],[0.6666666666666666,\"#ed7953\"],[0.7777777777777778,\"#fb9f3a\"],[0.8888888888888888,\"#fdca26\"],[1.0,\"#f0f921\"]]}],\"surface\":[{\"type\":\"surface\",\"colorbar\":{\"outlinewidth\":0,\"ticks\":\"\"},\"colorscale\":[[0.0,\"#0d0887\"],[0.1111111111111111,\"#46039f\"],[0.2222222222222222,\"#7201a8\"],[0.3333333333333333,\"#9c179e\"],[0.4444444444444444,\"#bd3786\"],[0.5555555555555556,\"#d8576b\"],[0.6666666666666666,\"#ed7953\"],[0.7777777777777778,\"#fb9f3a\"],[0.8888888888888888,\"#fdca26\"],[1.0,\"#f0f921\"]]}],\"mesh3d\":[{\"type\":\"mesh3d\",\"colorbar\":{\"outlinewidth\":0,\"ticks\":\"\"}}],\"scatter\":[{\"fillpattern\":{\"fillmode\":\"overlay\",\"size\":10,\"solidity\":0.2},\"type\":\"scatter\"}],\"parcoords\":[{\"type\":\"parcoords\",\"line\":{\"colorbar\":{\"outlinewidth\":0,\"ticks\":\"\"}}}],\"scatterpolargl\":[{\"type\":\"scatterpolargl\",\"marker\":{\"colorbar\":{\"outlinewidth\":0,\"ticks\":\"\"}}}],\"bar\":[{\"error_x\":{\"color\":\"#2a3f5f\"},\"error_y\":{\"color\":\"#2a3f5f\"},\"marker\":{\"line\":{\"color\":\"#E5ECF6\",\"width\":0.5},\"pattern\":{\"fillmode\":\"overlay\",\"size\":10,\"solidity\":0.2}},\"type\":\"bar\"}],\"scattergeo\":[{\"type\":\"scattergeo\",\"marker\":{\"colorbar\":{\"outlinewidth\":0,\"ticks\":\"\"}}}],\"scatterpolar\":[{\"type\":\"scatterpolar\",\"marker\":{\"colorbar\":{\"outlinewidth\":0,\"ticks\":\"\"}}}],\"histogram\":[{\"marker\":{\"pattern\":{\"fillmode\":\"overlay\",\"size\":10,\"solidity\":0.2}},\"type\":\"histogram\"}],\"scattergl\":[{\"type\":\"scattergl\",\"marker\":{\"colorbar\":{\"outlinewidth\":0,\"ticks\":\"\"}}}],\"scatter3d\":[{\"type\":\"scatter3d\",\"line\":{\"colorbar\":{\"outlinewidth\":0,\"ticks\":\"\"}},\"marker\":{\"colorbar\":{\"outlinewidth\":0,\"ticks\":\"\"}}}],\"scattermapbox\":[{\"type\":\"scattermapbox\",\"marker\":{\"colorbar\":{\"outlinewidth\":0,\"ticks\":\"\"}}}],\"scatterternary\":[{\"type\":\"scatterternary\",\"marker\":{\"colorbar\":{\"outlinewidth\":0,\"ticks\":\"\"}}}],\"scattercarpet\":[{\"type\":\"scattercarpet\",\"marker\":{\"colorbar\":{\"outlinewidth\":0,\"ticks\":\"\"}}}],\"carpet\":[{\"aaxis\":{\"endlinecolor\":\"#2a3f5f\",\"gridcolor\":\"white\",\"linecolor\":\"white\",\"minorgridcolor\":\"white\",\"startlinecolor\":\"#2a3f5f\"},\"baxis\":{\"endlinecolor\":\"#2a3f5f\",\"gridcolor\":\"white\",\"linecolor\":\"white\",\"minorgridcolor\":\"white\",\"startlinecolor\":\"#2a3f5f\"},\"type\":\"carpet\"}],\"table\":[{\"cells\":{\"fill\":{\"color\":\"#EBF0F8\"},\"line\":{\"color\":\"white\"}},\"header\":{\"fill\":{\"color\":\"#C8D4E3\"},\"line\":{\"color\":\"white\"}},\"type\":\"table\"}],\"barpolar\":[{\"marker\":{\"line\":{\"color\":\"#E5ECF6\",\"width\":0.5},\"pattern\":{\"fillmode\":\"overlay\",\"size\":10,\"solidity\":0.2}},\"type\":\"barpolar\"}],\"pie\":[{\"automargin\":true,\"type\":\"pie\"}]},\"layout\":{\"autotypenumbers\":\"strict\",\"colorway\":[\"#636efa\",\"#EF553B\",\"#00cc96\",\"#ab63fa\",\"#FFA15A\",\"#19d3f3\",\"#FF6692\",\"#B6E880\",\"#FF97FF\",\"#FECB52\"],\"font\":{\"color\":\"#2a3f5f\"},\"hovermode\":\"closest\",\"hoverlabel\":{\"align\":\"left\"},\"paper_bgcolor\":\"white\",\"plot_bgcolor\":\"#E5ECF6\",\"polar\":{\"bgcolor\":\"#E5ECF6\",\"angularaxis\":{\"gridcolor\":\"white\",\"linecolor\":\"white\",\"ticks\":\"\"},\"radialaxis\":{\"gridcolor\":\"white\",\"linecolor\":\"white\",\"ticks\":\"\"}},\"ternary\":{\"bgcolor\":\"#E5ECF6\",\"aaxis\":{\"gridcolor\":\"white\",\"linecolor\":\"white\",\"ticks\":\"\"},\"baxis\":{\"gridcolor\":\"white\",\"linecolor\":\"white\",\"ticks\":\"\"},\"caxis\":{\"gridcolor\":\"white\",\"linecolor\":\"white\",\"ticks\":\"\"}},\"coloraxis\":{\"colorbar\":{\"outlinewidth\":0,\"ticks\":\"\"}},\"colorscale\":{\"sequential\":[[0.0,\"#0d0887\"],[0.1111111111111111,\"#46039f\"],[0.2222222222222222,\"#7201a8\"],[0.3333333333333333,\"#9c179e\"],[0.4444444444444444,\"#bd3786\"],[0.5555555555555556,\"#d8576b\"],[0.6666666666666666,\"#ed7953\"],[0.7777777777777778,\"#fb9f3a\"],[0.8888888888888888,\"#fdca26\"],[1.0,\"#f0f921\"]],\"sequentialminus\":[[0.0,\"#0d0887\"],[0.1111111111111111,\"#46039f\"],[0.2222222222222222,\"#7201a8\"],[0.3333333333333333,\"#9c179e\"],[0.4444444444444444,\"#bd3786\"],[0.5555555555555556,\"#d8576b\"],[0.6666666666666666,\"#ed7953\"],[0.7777777777777778,\"#fb9f3a\"],[0.8888888888888888,\"#fdca26\"],[1.0,\"#f0f921\"]],\"diverging\":[[0,\"#8e0152\"],[0.1,\"#c51b7d\"],[0.2,\"#de77ae\"],[0.3,\"#f1b6da\"],[0.4,\"#fde0ef\"],[0.5,\"#f7f7f7\"],[0.6,\"#e6f5d0\"],[0.7,\"#b8e186\"],[0.8,\"#7fbc41\"],[0.9,\"#4d9221\"],[1,\"#276419\"]]},\"xaxis\":{\"gridcolor\":\"white\",\"linecolor\":\"white\",\"ticks\":\"\",\"title\":{\"standoff\":15},\"zerolinecolor\":\"white\",\"automargin\":true,\"zerolinewidth\":2},\"yaxis\":{\"gridcolor\":\"white\",\"linecolor\":\"white\",\"ticks\":\"\",\"title\":{\"standoff\":15},\"zerolinecolor\":\"white\",\"automargin\":true,\"zerolinewidth\":2},\"scene\":{\"xaxis\":{\"backgroundcolor\":\"#E5ECF6\",\"gridcolor\":\"white\",\"linecolor\":\"white\",\"showbackground\":true,\"ticks\":\"\",\"zerolinecolor\":\"white\",\"gridwidth\":2},\"yaxis\":{\"backgroundcolor\":\"#E5ECF6\",\"gridcolor\":\"white\",\"linecolor\":\"white\",\"showbackground\":true,\"ticks\":\"\",\"zerolinecolor\":\"white\",\"gridwidth\":2},\"zaxis\":{\"backgroundcolor\":\"#E5ECF6\",\"gridcolor\":\"white\",\"linecolor\":\"white\",\"showbackground\":true,\"ticks\":\"\",\"zerolinecolor\":\"white\",\"gridwidth\":2}},\"shapedefaults\":{\"line\":{\"color\":\"#2a3f5f\"}},\"annotationdefaults\":{\"arrowcolor\":\"#2a3f5f\",\"arrowhead\":0,\"arrowwidth\":1},\"geo\":{\"bgcolor\":\"white\",\"landcolor\":\"#E5ECF6\",\"subunitcolor\":\"white\",\"showland\":true,\"showlakes\":true,\"lakecolor\":\"white\"},\"title\":{\"x\":0.05},\"mapbox\":{\"style\":\"light\"}}}},                        {\"responsive\": true}                    ).then(function(){\n",
       "                            \n",
       "var gd = document.getElementById('e80969c1-6fc4-4bb6-bb6d-1f0b919f2dc4');\n",
       "var x = new MutationObserver(function (mutations, observer) {{\n",
       "        var display = window.getComputedStyle(gd).display;\n",
       "        if (!display || display === 'none') {{\n",
       "            console.log([gd, 'removed!']);\n",
       "            Plotly.purge(gd);\n",
       "            observer.disconnect();\n",
       "        }}\n",
       "}});\n",
       "\n",
       "// Listen for the removal of the full notebook cells\n",
       "var notebookContainer = gd.closest('#notebook-container');\n",
       "if (notebookContainer) {{\n",
       "    x.observe(notebookContainer, {childList: true});\n",
       "}}\n",
       "\n",
       "// Listen for the clearing of the current output cell\n",
       "var outputEl = gd.closest('.output');\n",
       "if (outputEl) {{\n",
       "    x.observe(outputEl, {childList: true});\n",
       "}}\n",
       "\n",
       "                        })                };                });            </script>        </div>"
      ]
     },
     "metadata": {},
     "output_type": "display_data"
    }
   ],
   "source": [
    "# strip the 2022 US $/bbl from each of the variable names\n",
    "oil_prices = benchmark_prices\n",
    "oil_prices['Variable'] = oil_prices['Variable'].str.split('-').str[0].str.strip()\n",
    "\n",
    "# filter out prices for Brent, WTI, and WCS\n",
    "valid_types = ['Brent', 'Western Canadian Select (WCS)', 'West Texas Intermediate (WTI)', 'Canadian Light Sweet (CLS)']\n",
    "oil_prices = oil_prices[oil_prices[\"Variable\"].isin(valid_types)]\n",
    "\n",
    "# show interactive line graph\n",
    "create_interactive_line_graph(\n",
    "    df=oil_prices,\n",
    "    x='Year',\n",
    "    y='Value',\n",
    "    title='Oil Prices Over Time by Scenario and Variable',\n",
    "    xAxisTitle='Year',\n",
    "    yAxisTitle='Price(2022 US $/bbl)'\n",
    ")"
   ]
  },
  {
   "cell_type": "code",
   "execution_count": 106,
   "id": "501703f4-89e6-43ef-b0df-c67bf0817e3a",
   "metadata": {},
   "outputs": [
    {
     "data": {
      "application/vnd.plotly.v1+json": {
       "config": {
        "plotlyServerURL": "https://plot.ly"
       },
       "data": [
        {
         "mode": "lines+markers",
         "name": "Current Measures - Henry Hub",
         "type": "scatter",
         "visible": true,
         "x": [
          2005,
          2006,
          2007,
          2008,
          2009,
          2010,
          2011,
          2012,
          2013,
          2014,
          2015,
          2016,
          2017,
          2018,
          2019,
          2020,
          2021,
          2022,
          2023,
          2024,
          2025,
          2026,
          2027,
          2028,
          2029,
          2030,
          2031,
          2032,
          2033,
          2034,
          2035,
          2036,
          2037,
          2038,
          2039,
          2040,
          2041,
          2042,
          2043,
          2044,
          2045,
          2046,
          2047,
          2048,
          2049,
          2050
         ],
         "y": [
          12.5999507828116,
          9.45888665761374,
          9.52643642374702,
          11.6655123513011,
          5.29331774606107,
          5.70987463721634,
          5.05689356459457,
          3.42444088304015,
          4.55027031859492,
          5.21450968557224,
          3.18589287420458,
          3.01058475161537,
          3.51844368955468,
          3.61990464623026,
          2.90201088360245,
          2.26280569720415,
          4.18369010043042,
          6.42,
          3.2,
          3.7,
          3.75,
          3.75,
          3.75,
          3.75,
          3.75,
          3.75,
          3.7825,
          3.815,
          3.8475,
          3.88,
          3.9125,
          3.945,
          3.9775,
          4.01,
          4.0425,
          4.075,
          4.1075,
          4.14,
          4.1725,
          4.205,
          4.2375,
          4.27,
          4.3025,
          4.335,
          4.3675,
          4.4
         ]
        },
        {
         "mode": "lines+markers",
         "name": "Current Measures - Nova Inventory Transfer (NIT)",
         "type": "scatter",
         "visible": true,
         "x": [
          2005,
          2006,
          2007,
          2008,
          2009,
          2010,
          2011,
          2012,
          2013,
          2014,
          2015,
          2016,
          2017,
          2018,
          2019,
          2020,
          2021,
          2022,
          2023,
          2024,
          2025,
          2026,
          2027,
          2028,
          2029,
          2030,
          2031,
          2032,
          2033,
          2034,
          2035,
          2036,
          2037,
          2038,
          2039,
          2040,
          2041,
          2042,
          2043,
          2044,
          2045,
          2046,
          2047,
          2048,
          2049,
          2050
         ],
         "y": [
          10.5804306456603,
          8.09234759308421,
          8.17115565357305,
          9.18440214557235,
          4.14068627428696,
          4.53472657673113,
          4.16320286299805,
          2.6658497137102,
          3.37512225810971,
          4.35459386704237,
          2.55522539221494,
          1.96599309784067,
          1.99140111063038,
          1.35249184584427,
          1.5282231621323,
          1.86335003372447,
          3.11583262722593,
          4.17692307692308,
          2.22,
          2.45,
          2.66,
          2.77,
          2.79,
          2.92,
          2.97,
          3,
          3.0325,
          3.075,
          3.1075,
          3.14,
          3.1725,
          3.205,
          3.2375,
          3.27,
          3.3025,
          3.335,
          3.3675,
          3.4,
          3.4325,
          3.465,
          3.4975,
          3.53,
          3.5625,
          3.595,
          3.6275,
          3.66
         ]
        },
        {
         "mode": "lines+markers",
         "name": "Canada Net-zero - Henry Hub",
         "type": "scatter",
         "visible": false,
         "x": [
          2005,
          2006,
          2007,
          2008,
          2009,
          2010,
          2011,
          2012,
          2013,
          2014,
          2015,
          2016,
          2017,
          2018,
          2019,
          2020,
          2021,
          2022,
          2023,
          2024,
          2025,
          2026,
          2027,
          2028,
          2029,
          2030,
          2031,
          2032,
          2033,
          2034,
          2035,
          2036,
          2037,
          2038,
          2039,
          2040,
          2041,
          2042,
          2043,
          2044,
          2045,
          2046,
          2047,
          2048,
          2049,
          2050
         ],
         "y": [
          12.5999507828116,
          9.45888665761374,
          9.52643642374702,
          11.6655123513011,
          5.29331774606107,
          5.70987463721634,
          5.05689356459457,
          3.42444088304015,
          4.55027031859492,
          5.21450968557224,
          3.18589287420458,
          3.01058475161537,
          3.51844368955468,
          3.61990464623026,
          2.90201088360245,
          2.26280569720415,
          4.18369010043042,
          6.42,
          3.2,
          3.7,
          3.75,
          3.74,
          3.73,
          3.72,
          3.71,
          3.7,
          3.645,
          3.59,
          3.535,
          3.48,
          3.425,
          3.37,
          3.315,
          3.26,
          3.205,
          3.15,
          3.095,
          3.04,
          2.985,
          2.93,
          2.875,
          2.82,
          2.765,
          2.71,
          2.655,
          2.6
         ]
        },
        {
         "mode": "lines+markers",
         "name": "Canada Net-zero - Nova Inventory Transfer (NIT)",
         "type": "scatter",
         "visible": false,
         "x": [
          2005,
          2006,
          2007,
          2008,
          2009,
          2010,
          2011,
          2012,
          2013,
          2014,
          2015,
          2016,
          2017,
          2018,
          2019,
          2020,
          2021,
          2022,
          2023,
          2024,
          2025,
          2026,
          2027,
          2028,
          2029,
          2030,
          2031,
          2032,
          2033,
          2034,
          2035,
          2036,
          2037,
          2038,
          2039,
          2040,
          2041,
          2042,
          2043,
          2044,
          2045,
          2046,
          2047,
          2048,
          2049,
          2050
         ],
         "y": [
          10.5804306456603,
          8.09234759308421,
          8.17115565357305,
          9.18440214557235,
          4.14068627428696,
          4.53472657673113,
          4.16320286299805,
          2.6658497137102,
          3.37512225810971,
          4.35459386704237,
          2.55522539221494,
          1.96599309784067,
          1.99140111063038,
          1.35249184584427,
          1.5282231621323,
          1.86335003372447,
          3.11583262722593,
          4.17692307692308,
          2.22,
          2.45,
          2.66,
          2.76,
          2.77,
          2.89,
          2.93,
          2.95,
          2.915,
          2.88,
          2.855,
          2.82,
          2.785,
          2.75,
          2.725,
          2.69,
          2.655,
          2.62,
          2.595,
          2.56,
          2.525,
          2.49,
          2.465,
          2.43,
          2.395,
          2.36,
          2.335,
          2.3
         ]
        },
        {
         "mode": "lines+markers",
         "name": "Global Net-zero - Henry Hub",
         "type": "scatter",
         "visible": false,
         "x": [
          2005,
          2006,
          2007,
          2008,
          2009,
          2010,
          2011,
          2012,
          2013,
          2014,
          2015,
          2016,
          2017,
          2018,
          2019,
          2020,
          2021,
          2022,
          2023,
          2024,
          2025,
          2026,
          2027,
          2028,
          2029,
          2030,
          2031,
          2032,
          2033,
          2034,
          2035,
          2036,
          2037,
          2038,
          2039,
          2040,
          2041,
          2042,
          2043,
          2044,
          2045,
          2046,
          2047,
          2048,
          2049,
          2050
         ],
         "y": [
          12.5999507828116,
          9.45888665761374,
          9.52643642374702,
          11.6655123513011,
          5.29331774606107,
          5.70987463721634,
          5.05689356459457,
          3.42444088304015,
          4.55027031859492,
          5.21450968557224,
          3.18589287420458,
          3.01058475161537,
          3.51844368955468,
          3.61990464623026,
          2.90201088360245,
          2.26280569720415,
          4.18369010043042,
          6.42,
          3.2,
          3.7,
          3.66666666666667,
          3.33333333333333,
          3,
          2.66666666666667,
          2.33333333333333,
          2,
          1.99,
          1.98,
          1.97,
          1.96,
          1.95,
          1.94,
          1.93,
          1.92,
          1.91,
          1.9,
          1.89,
          1.88,
          1.87,
          1.86,
          1.85,
          1.84,
          1.83,
          1.82,
          1.81,
          1.8
         ]
        },
        {
         "mode": "lines+markers",
         "name": "Global Net-zero - Nova Inventory Transfer (NIT)",
         "type": "scatter",
         "visible": false,
         "x": [
          2005,
          2006,
          2007,
          2008,
          2009,
          2010,
          2011,
          2012,
          2013,
          2014,
          2015,
          2016,
          2017,
          2018,
          2019,
          2020,
          2021,
          2022,
          2023,
          2024,
          2025,
          2026,
          2027,
          2028,
          2029,
          2030,
          2031,
          2032,
          2033,
          2034,
          2035,
          2036,
          2037,
          2038,
          2039,
          2040,
          2041,
          2042,
          2043,
          2044,
          2045,
          2046,
          2047,
          2048,
          2049,
          2050
         ],
         "y": [
          10.5804306456603,
          8.09234759308421,
          8.17115565357305,
          9.18440214557235,
          4.14068627428696,
          4.53472657673113,
          4.16320286299805,
          2.6658497137102,
          3.37512225810971,
          4.35459386704237,
          2.55522539221494,
          1.96599309784067,
          1.99140111063038,
          1.35249184584427,
          1.5282231621323,
          1.86335003372447,
          3.11583262722593,
          4.17692307692308,
          2.22,
          2.45,
          2.57666666666667,
          2.35333333333333,
          2.19,
          2.02666666666667,
          1.86333333333333,
          1.7,
          1.69,
          1.68,
          1.67,
          1.66,
          1.65,
          1.64,
          1.63,
          1.62,
          1.61,
          1.6,
          1.59,
          1.58,
          1.57,
          1.56,
          1.55,
          1.54,
          1.53,
          1.52,
          1.51,
          1.5
         ]
        }
       ],
       "layout": {
        "autosize": true,
        "legend": {
         "orientation": "h",
         "x": 0,
         "xanchor": "left",
         "y": -0.2,
         "yanchor": "top"
        },
        "template": {
         "data": {
          "bar": [
           {
            "error_x": {
             "color": "#2a3f5f"
            },
            "error_y": {
             "color": "#2a3f5f"
            },
            "marker": {
             "line": {
              "color": "#E5ECF6",
              "width": 0.5
             },
             "pattern": {
              "fillmode": "overlay",
              "size": 10,
              "solidity": 0.2
             }
            },
            "type": "bar"
           }
          ],
          "barpolar": [
           {
            "marker": {
             "line": {
              "color": "#E5ECF6",
              "width": 0.5
             },
             "pattern": {
              "fillmode": "overlay",
              "size": 10,
              "solidity": 0.2
             }
            },
            "type": "barpolar"
           }
          ],
          "carpet": [
           {
            "aaxis": {
             "endlinecolor": "#2a3f5f",
             "gridcolor": "white",
             "linecolor": "white",
             "minorgridcolor": "white",
             "startlinecolor": "#2a3f5f"
            },
            "baxis": {
             "endlinecolor": "#2a3f5f",
             "gridcolor": "white",
             "linecolor": "white",
             "minorgridcolor": "white",
             "startlinecolor": "#2a3f5f"
            },
            "type": "carpet"
           }
          ],
          "choropleth": [
           {
            "colorbar": {
             "outlinewidth": 0,
             "ticks": ""
            },
            "type": "choropleth"
           }
          ],
          "contour": [
           {
            "colorbar": {
             "outlinewidth": 0,
             "ticks": ""
            },
            "colorscale": [
             [
              0,
              "#0d0887"
             ],
             [
              0.1111111111111111,
              "#46039f"
             ],
             [
              0.2222222222222222,
              "#7201a8"
             ],
             [
              0.3333333333333333,
              "#9c179e"
             ],
             [
              0.4444444444444444,
              "#bd3786"
             ],
             [
              0.5555555555555556,
              "#d8576b"
             ],
             [
              0.6666666666666666,
              "#ed7953"
             ],
             [
              0.7777777777777778,
              "#fb9f3a"
             ],
             [
              0.8888888888888888,
              "#fdca26"
             ],
             [
              1,
              "#f0f921"
             ]
            ],
            "type": "contour"
           }
          ],
          "contourcarpet": [
           {
            "colorbar": {
             "outlinewidth": 0,
             "ticks": ""
            },
            "type": "contourcarpet"
           }
          ],
          "heatmap": [
           {
            "colorbar": {
             "outlinewidth": 0,
             "ticks": ""
            },
            "colorscale": [
             [
              0,
              "#0d0887"
             ],
             [
              0.1111111111111111,
              "#46039f"
             ],
             [
              0.2222222222222222,
              "#7201a8"
             ],
             [
              0.3333333333333333,
              "#9c179e"
             ],
             [
              0.4444444444444444,
              "#bd3786"
             ],
             [
              0.5555555555555556,
              "#d8576b"
             ],
             [
              0.6666666666666666,
              "#ed7953"
             ],
             [
              0.7777777777777778,
              "#fb9f3a"
             ],
             [
              0.8888888888888888,
              "#fdca26"
             ],
             [
              1,
              "#f0f921"
             ]
            ],
            "type": "heatmap"
           }
          ],
          "heatmapgl": [
           {
            "colorbar": {
             "outlinewidth": 0,
             "ticks": ""
            },
            "colorscale": [
             [
              0,
              "#0d0887"
             ],
             [
              0.1111111111111111,
              "#46039f"
             ],
             [
              0.2222222222222222,
              "#7201a8"
             ],
             [
              0.3333333333333333,
              "#9c179e"
             ],
             [
              0.4444444444444444,
              "#bd3786"
             ],
             [
              0.5555555555555556,
              "#d8576b"
             ],
             [
              0.6666666666666666,
              "#ed7953"
             ],
             [
              0.7777777777777778,
              "#fb9f3a"
             ],
             [
              0.8888888888888888,
              "#fdca26"
             ],
             [
              1,
              "#f0f921"
             ]
            ],
            "type": "heatmapgl"
           }
          ],
          "histogram": [
           {
            "marker": {
             "pattern": {
              "fillmode": "overlay",
              "size": 10,
              "solidity": 0.2
             }
            },
            "type": "histogram"
           }
          ],
          "histogram2d": [
           {
            "colorbar": {
             "outlinewidth": 0,
             "ticks": ""
            },
            "colorscale": [
             [
              0,
              "#0d0887"
             ],
             [
              0.1111111111111111,
              "#46039f"
             ],
             [
              0.2222222222222222,
              "#7201a8"
             ],
             [
              0.3333333333333333,
              "#9c179e"
             ],
             [
              0.4444444444444444,
              "#bd3786"
             ],
             [
              0.5555555555555556,
              "#d8576b"
             ],
             [
              0.6666666666666666,
              "#ed7953"
             ],
             [
              0.7777777777777778,
              "#fb9f3a"
             ],
             [
              0.8888888888888888,
              "#fdca26"
             ],
             [
              1,
              "#f0f921"
             ]
            ],
            "type": "histogram2d"
           }
          ],
          "histogram2dcontour": [
           {
            "colorbar": {
             "outlinewidth": 0,
             "ticks": ""
            },
            "colorscale": [
             [
              0,
              "#0d0887"
             ],
             [
              0.1111111111111111,
              "#46039f"
             ],
             [
              0.2222222222222222,
              "#7201a8"
             ],
             [
              0.3333333333333333,
              "#9c179e"
             ],
             [
              0.4444444444444444,
              "#bd3786"
             ],
             [
              0.5555555555555556,
              "#d8576b"
             ],
             [
              0.6666666666666666,
              "#ed7953"
             ],
             [
              0.7777777777777778,
              "#fb9f3a"
             ],
             [
              0.8888888888888888,
              "#fdca26"
             ],
             [
              1,
              "#f0f921"
             ]
            ],
            "type": "histogram2dcontour"
           }
          ],
          "mesh3d": [
           {
            "colorbar": {
             "outlinewidth": 0,
             "ticks": ""
            },
            "type": "mesh3d"
           }
          ],
          "parcoords": [
           {
            "line": {
             "colorbar": {
              "outlinewidth": 0,
              "ticks": ""
             }
            },
            "type": "parcoords"
           }
          ],
          "pie": [
           {
            "automargin": true,
            "type": "pie"
           }
          ],
          "scatter": [
           {
            "fillpattern": {
             "fillmode": "overlay",
             "size": 10,
             "solidity": 0.2
            },
            "type": "scatter"
           }
          ],
          "scatter3d": [
           {
            "line": {
             "colorbar": {
              "outlinewidth": 0,
              "ticks": ""
             }
            },
            "marker": {
             "colorbar": {
              "outlinewidth": 0,
              "ticks": ""
             }
            },
            "type": "scatter3d"
           }
          ],
          "scattercarpet": [
           {
            "marker": {
             "colorbar": {
              "outlinewidth": 0,
              "ticks": ""
             }
            },
            "type": "scattercarpet"
           }
          ],
          "scattergeo": [
           {
            "marker": {
             "colorbar": {
              "outlinewidth": 0,
              "ticks": ""
             }
            },
            "type": "scattergeo"
           }
          ],
          "scattergl": [
           {
            "marker": {
             "colorbar": {
              "outlinewidth": 0,
              "ticks": ""
             }
            },
            "type": "scattergl"
           }
          ],
          "scattermapbox": [
           {
            "marker": {
             "colorbar": {
              "outlinewidth": 0,
              "ticks": ""
             }
            },
            "type": "scattermapbox"
           }
          ],
          "scatterpolar": [
           {
            "marker": {
             "colorbar": {
              "outlinewidth": 0,
              "ticks": ""
             }
            },
            "type": "scatterpolar"
           }
          ],
          "scatterpolargl": [
           {
            "marker": {
             "colorbar": {
              "outlinewidth": 0,
              "ticks": ""
             }
            },
            "type": "scatterpolargl"
           }
          ],
          "scatterternary": [
           {
            "marker": {
             "colorbar": {
              "outlinewidth": 0,
              "ticks": ""
             }
            },
            "type": "scatterternary"
           }
          ],
          "surface": [
           {
            "colorbar": {
             "outlinewidth": 0,
             "ticks": ""
            },
            "colorscale": [
             [
              0,
              "#0d0887"
             ],
             [
              0.1111111111111111,
              "#46039f"
             ],
             [
              0.2222222222222222,
              "#7201a8"
             ],
             [
              0.3333333333333333,
              "#9c179e"
             ],
             [
              0.4444444444444444,
              "#bd3786"
             ],
             [
              0.5555555555555556,
              "#d8576b"
             ],
             [
              0.6666666666666666,
              "#ed7953"
             ],
             [
              0.7777777777777778,
              "#fb9f3a"
             ],
             [
              0.8888888888888888,
              "#fdca26"
             ],
             [
              1,
              "#f0f921"
             ]
            ],
            "type": "surface"
           }
          ],
          "table": [
           {
            "cells": {
             "fill": {
              "color": "#EBF0F8"
             },
             "line": {
              "color": "white"
             }
            },
            "header": {
             "fill": {
              "color": "#C8D4E3"
             },
             "line": {
              "color": "white"
             }
            },
            "type": "table"
           }
          ]
         },
         "layout": {
          "annotationdefaults": {
           "arrowcolor": "#2a3f5f",
           "arrowhead": 0,
           "arrowwidth": 1
          },
          "autotypenumbers": "strict",
          "coloraxis": {
           "colorbar": {
            "outlinewidth": 0,
            "ticks": ""
           }
          },
          "colorscale": {
           "diverging": [
            [
             0,
             "#8e0152"
            ],
            [
             0.1,
             "#c51b7d"
            ],
            [
             0.2,
             "#de77ae"
            ],
            [
             0.3,
             "#f1b6da"
            ],
            [
             0.4,
             "#fde0ef"
            ],
            [
             0.5,
             "#f7f7f7"
            ],
            [
             0.6,
             "#e6f5d0"
            ],
            [
             0.7,
             "#b8e186"
            ],
            [
             0.8,
             "#7fbc41"
            ],
            [
             0.9,
             "#4d9221"
            ],
            [
             1,
             "#276419"
            ]
           ],
           "sequential": [
            [
             0,
             "#0d0887"
            ],
            [
             0.1111111111111111,
             "#46039f"
            ],
            [
             0.2222222222222222,
             "#7201a8"
            ],
            [
             0.3333333333333333,
             "#9c179e"
            ],
            [
             0.4444444444444444,
             "#bd3786"
            ],
            [
             0.5555555555555556,
             "#d8576b"
            ],
            [
             0.6666666666666666,
             "#ed7953"
            ],
            [
             0.7777777777777778,
             "#fb9f3a"
            ],
            [
             0.8888888888888888,
             "#fdca26"
            ],
            [
             1,
             "#f0f921"
            ]
           ],
           "sequentialminus": [
            [
             0,
             "#0d0887"
            ],
            [
             0.1111111111111111,
             "#46039f"
            ],
            [
             0.2222222222222222,
             "#7201a8"
            ],
            [
             0.3333333333333333,
             "#9c179e"
            ],
            [
             0.4444444444444444,
             "#bd3786"
            ],
            [
             0.5555555555555556,
             "#d8576b"
            ],
            [
             0.6666666666666666,
             "#ed7953"
            ],
            [
             0.7777777777777778,
             "#fb9f3a"
            ],
            [
             0.8888888888888888,
             "#fdca26"
            ],
            [
             1,
             "#f0f921"
            ]
           ]
          },
          "colorway": [
           "#636efa",
           "#EF553B",
           "#00cc96",
           "#ab63fa",
           "#FFA15A",
           "#19d3f3",
           "#FF6692",
           "#B6E880",
           "#FF97FF",
           "#FECB52"
          ],
          "font": {
           "color": "#2a3f5f"
          },
          "geo": {
           "bgcolor": "white",
           "lakecolor": "white",
           "landcolor": "#E5ECF6",
           "showlakes": true,
           "showland": true,
           "subunitcolor": "white"
          },
          "hoverlabel": {
           "align": "left"
          },
          "hovermode": "closest",
          "mapbox": {
           "style": "light"
          },
          "paper_bgcolor": "white",
          "plot_bgcolor": "#E5ECF6",
          "polar": {
           "angularaxis": {
            "gridcolor": "white",
            "linecolor": "white",
            "ticks": ""
           },
           "bgcolor": "#E5ECF6",
           "radialaxis": {
            "gridcolor": "white",
            "linecolor": "white",
            "ticks": ""
           }
          },
          "scene": {
           "xaxis": {
            "backgroundcolor": "#E5ECF6",
            "gridcolor": "white",
            "gridwidth": 2,
            "linecolor": "white",
            "showbackground": true,
            "ticks": "",
            "zerolinecolor": "white"
           },
           "yaxis": {
            "backgroundcolor": "#E5ECF6",
            "gridcolor": "white",
            "gridwidth": 2,
            "linecolor": "white",
            "showbackground": true,
            "ticks": "",
            "zerolinecolor": "white"
           },
           "zaxis": {
            "backgroundcolor": "#E5ECF6",
            "gridcolor": "white",
            "gridwidth": 2,
            "linecolor": "white",
            "showbackground": true,
            "ticks": "",
            "zerolinecolor": "white"
           }
          },
          "shapedefaults": {
           "line": {
            "color": "#2a3f5f"
           }
          },
          "ternary": {
           "aaxis": {
            "gridcolor": "white",
            "linecolor": "white",
            "ticks": ""
           },
           "baxis": {
            "gridcolor": "white",
            "linecolor": "white",
            "ticks": ""
           },
           "bgcolor": "#E5ECF6",
           "caxis": {
            "gridcolor": "white",
            "linecolor": "white",
            "ticks": ""
           }
          },
          "title": {
           "x": 0.05
          },
          "xaxis": {
           "automargin": true,
           "gridcolor": "white",
           "linecolor": "white",
           "ticks": "",
           "title": {
            "standoff": 15
           },
           "zerolinecolor": "white",
           "zerolinewidth": 2
          },
          "yaxis": {
           "automargin": true,
           "gridcolor": "white",
           "linecolor": "white",
           "ticks": "",
           "title": {
            "standoff": 15
           },
           "zerolinecolor": "white",
           "zerolinewidth": 2
          }
         }
        },
        "title": {
         "text": "Natural Gas Prices Over Time by Scenario and Variable"
        },
        "updatemenus": [
         {
          "active": 0,
          "buttons": [
           {
            "args": [
             {
              "visible": [
               true,
               true,
               false,
               false,
               false,
               false
              ]
             }
            ],
            "label": "Current Measures",
            "method": "update"
           },
           {
            "args": [
             {
              "visible": [
               false,
               false,
               true,
               true,
               false,
               false
              ]
             }
            ],
            "label": "Canada Net-zero",
            "method": "update"
           },
           {
            "args": [
             {
              "visible": [
               false,
               false,
               false,
               false,
               true,
               true
              ]
             }
            ],
            "label": "Global Net-zero",
            "method": "update"
           }
          ],
          "direction": "down",
          "showactive": true,
          "x": 0.5,
          "xanchor": "center",
          "y": 1.12,
          "yanchor": "top"
         }
        ],
        "xaxis": {
         "autorange": true,
         "range": [
          2002.3403168114462,
          2052.659683188554
         ],
         "title": {
          "text": "Year"
         },
         "type": "linear"
        },
        "yaxis": {
         "autorange": true,
         "range": [
          0.4243034869683254,
          13.528139141687545
         ],
         "title": {
          "text": "Price (2022 US$/MMBtu)"
         },
         "type": "linear"
        }
       }
      },
      "image/png": "[encoded data removed]",
      "text/html": [
       "<div>                            <div id=\"0952a963-3b52-4f2b-9cce-4816cb1c0938\" class=\"plotly-graph-div\" style=\"height:525px; width:100%;\"></div>            <script type=\"text/javascript\">                require([\"plotly\"], function(Plotly) {                    window.PLOTLYENV=window.PLOTLYENV || {};                                    if (document.getElementById(\"0952a963-3b52-4f2b-9cce-4816cb1c0938\")) {                    Plotly.newPlot(                        \"0952a963-3b52-4f2b-9cce-4816cb1c0938\",                        [{\"mode\":\"lines+markers\",\"name\":\"Current Measures - Henry Hub\",\"visible\":true,\"x\":[2005,2006,2007,2008,2009,2010,2011,2012,2013,2014,2015,2016,2017,2018,2019,2020,2021,2022,2023,2024,2025,2026,2027,2028,2029,2030,2031,2032,2033,2034,2035,2036,2037,2038,2039,2040,2041,2042,2043,2044,2045,2046,2047,2048,2049,2050],\"y\":[12.5999507828116,9.45888665761374,9.52643642374702,11.6655123513011,5.29331774606107,5.70987463721634,5.05689356459457,3.42444088304015,4.55027031859492,5.21450968557224,3.18589287420458,3.01058475161537,3.51844368955468,3.61990464623026,2.90201088360245,2.26280569720415,4.18369010043042,6.42,3.2,3.7,3.75,3.75,3.75,3.75,3.75,3.75,3.7825,3.815,3.8475,3.88,3.9125,3.945,3.9775,4.01,4.0425,4.075,4.1075,4.14,4.1725,4.205,4.2375,4.27,4.3025,4.335,4.3675,4.4],\"type\":\"scatter\"},{\"mode\":\"lines+markers\",\"name\":\"Current Measures - Nova Inventory Transfer (NIT)\",\"visible\":true,\"x\":[2005,2006,2007,2008,2009,2010,2011,2012,2013,2014,2015,2016,2017,2018,2019,2020,2021,2022,2023,2024,2025,2026,2027,2028,2029,2030,2031,2032,2033,2034,2035,2036,2037,2038,2039,2040,2041,2042,2043,2044,2045,2046,2047,2048,2049,2050],\"y\":[10.5804306456603,8.09234759308421,8.17115565357305,9.18440214557235,4.14068627428696,4.53472657673113,4.16320286299805,2.6658497137102,3.37512225810971,4.35459386704237,2.55522539221494,1.96599309784067,1.99140111063038,1.35249184584427,1.5282231621323,1.86335003372447,3.11583262722593,4.17692307692308,2.22,2.45,2.66,2.77,2.79,2.92,2.97,3.0,3.0325,3.075,3.1075,3.14,3.1725,3.205,3.2375,3.27,3.3025,3.335,3.3675,3.4,3.4325,3.465,3.4975,3.53,3.5625,3.595,3.6275,3.66],\"type\":\"scatter\"},{\"mode\":\"lines+markers\",\"name\":\"Canada Net-zero - Henry Hub\",\"visible\":false,\"x\":[2005,2006,2007,2008,2009,2010,2011,2012,2013,2014,2015,2016,2017,2018,2019,2020,2021,2022,2023,2024,2025,2026,2027,2028,2029,2030,2031,2032,2033,2034,2035,2036,2037,2038,2039,2040,2041,2042,2043,2044,2045,2046,2047,2048,2049,2050],\"y\":[12.5999507828116,9.45888665761374,9.52643642374702,11.6655123513011,5.29331774606107,5.70987463721634,5.05689356459457,3.42444088304015,4.55027031859492,5.21450968557224,3.18589287420458,3.01058475161537,3.51844368955468,3.61990464623026,2.90201088360245,2.26280569720415,4.18369010043042,6.42,3.2,3.7,3.75,3.74,3.73,3.72,3.71,3.7,3.645,3.59,3.535,3.48,3.425,3.37,3.315,3.26,3.205,3.15,3.095,3.04,2.985,2.93,2.875,2.82,2.765,2.71,2.655,2.6],\"type\":\"scatter\"},{\"mode\":\"lines+markers\",\"name\":\"Canada Net-zero - Nova Inventory Transfer (NIT)\",\"visible\":false,\"x\":[2005,2006,2007,2008,2009,2010,2011,2012,2013,2014,2015,2016,2017,2018,2019,2020,2021,2022,2023,2024,2025,2026,2027,2028,2029,2030,2031,2032,2033,2034,2035,2036,2037,2038,2039,2040,2041,2042,2043,2044,2045,2046,2047,2048,2049,2050],\"y\":[10.5804306456603,8.09234759308421,8.17115565357305,9.18440214557235,4.14068627428696,4.53472657673113,4.16320286299805,2.6658497137102,3.37512225810971,4.35459386704237,2.55522539221494,1.96599309784067,1.99140111063038,1.35249184584427,1.5282231621323,1.86335003372447,3.11583262722593,4.17692307692308,2.22,2.45,2.66,2.76,2.77,2.89,2.93,2.95,2.915,2.88,2.855,2.82,2.785,2.75,2.725,2.69,2.655,2.62,2.595,2.56,2.525,2.49,2.465,2.43,2.395,2.36,2.335,2.3],\"type\":\"scatter\"},{\"mode\":\"lines+markers\",\"name\":\"Global Net-zero - Henry Hub\",\"visible\":false,\"x\":[2005,2006,2007,2008,2009,2010,2011,2012,2013,2014,2015,2016,2017,2018,2019,2020,2021,2022,2023,2024,2025,2026,2027,2028,2029,2030,2031,2032,2033,2034,2035,2036,2037,2038,2039,2040,2041,2042,2043,2044,2045,2046,2047,2048,2049,2050],\"y\":[12.5999507828116,9.45888665761374,9.52643642374702,11.6655123513011,5.29331774606107,5.70987463721634,5.05689356459457,3.42444088304015,4.55027031859492,5.21450968557224,3.18589287420458,3.01058475161537,3.51844368955468,3.61990464623026,2.90201088360245,2.26280569720415,4.18369010043042,6.42,3.2,3.7,3.66666666666667,3.33333333333333,3.0,2.66666666666667,2.33333333333333,2.0,1.99,1.98,1.97,1.96,1.95,1.94,1.93,1.92,1.91,1.9,1.89,1.88,1.87,1.86,1.85,1.84,1.83,1.82,1.81,1.8],\"type\":\"scatter\"},{\"mode\":\"lines+markers\",\"name\":\"Global Net-zero - Nova Inventory Transfer (NIT)\",\"visible\":false,\"x\":[2005,2006,2007,2008,2009,2010,2011,2012,2013,2014,2015,2016,2017,2018,2019,2020,2021,2022,2023,2024,2025,2026,2027,2028,2029,2030,2031,2032,2033,2034,2035,2036,2037,2038,2039,2040,2041,2042,2043,2044,2045,2046,2047,2048,2049,2050],\"y\":[10.5804306456603,8.09234759308421,8.17115565357305,9.18440214557235,4.14068627428696,4.53472657673113,4.16320286299805,2.6658497137102,3.37512225810971,4.35459386704237,2.55522539221494,1.96599309784067,1.99140111063038,1.35249184584427,1.5282231621323,1.86335003372447,3.11583262722593,4.17692307692308,2.22,2.45,2.57666666666667,2.35333333333333,2.19,2.02666666666667,1.86333333333333,1.7,1.69,1.68,1.67,1.66,1.65,1.64,1.63,1.62,1.61,1.6,1.59,1.58,1.57,1.56,1.55,1.54,1.53,1.52,1.51,1.5],\"type\":\"scatter\"}],                        {\"autosize\":true,\"legend\":{\"orientation\":\"h\",\"x\":0,\"xanchor\":\"left\",\"y\":-0.2,\"yanchor\":\"top\"},\"title\":{\"text\":\"Natural Gas Prices Over Time by Scenario and Variable\"},\"updatemenus\":[{\"buttons\":[{\"args\":[{\"visible\":[true,true,false,false,false,false]}],\"label\":\"Current Measures\",\"method\":\"update\"},{\"args\":[{\"visible\":[false,false,true,true,false,false]}],\"label\":\"Canada Net-zero\",\"method\":\"update\"},{\"args\":[{\"visible\":[false,false,false,false,true,true]}],\"label\":\"Global Net-zero\",\"method\":\"update\"}],\"direction\":\"down\",\"showactive\":true,\"x\":0.5,\"xanchor\":\"center\",\"y\":1.12,\"yanchor\":\"top\",\"active\":0}],\"xaxis\":{\"title\":{\"text\":\"Year\"}},\"yaxis\":{\"title\":{\"text\":\"Price (2022 US$\\u002fMMBtu)\"}},\"template\":{\"data\":{\"histogram2dcontour\":[{\"type\":\"histogram2dcontour\",\"colorbar\":{\"outlinewidth\":0,\"ticks\":\"\"},\"colorscale\":[[0.0,\"#0d0887\"],[0.1111111111111111,\"#46039f\"],[0.2222222222222222,\"#7201a8\"],[0.3333333333333333,\"#9c179e\"],[0.4444444444444444,\"#bd3786\"],[0.5555555555555556,\"#d8576b\"],[0.6666666666666666,\"#ed7953\"],[0.7777777777777778,\"#fb9f3a\"],[0.8888888888888888,\"#fdca26\"],[1.0,\"#f0f921\"]]}],\"choropleth\":[{\"type\":\"choropleth\",\"colorbar\":{\"outlinewidth\":0,\"ticks\":\"\"}}],\"histogram2d\":[{\"type\":\"histogram2d\",\"colorbar\":{\"outlinewidth\":0,\"ticks\":\"\"},\"colorscale\":[[0.0,\"#0d0887\"],[0.1111111111111111,\"#46039f\"],[0.2222222222222222,\"#7201a8\"],[0.3333333333333333,\"#9c179e\"],[0.4444444444444444,\"#bd3786\"],[0.5555555555555556,\"#d8576b\"],[0.6666666666666666,\"#ed7953\"],[0.7777777777777778,\"#fb9f3a\"],[0.8888888888888888,\"#fdca26\"],[1.0,\"#f0f921\"]]}],\"heatmap\":[{\"type\":\"heatmap\",\"colorbar\":{\"outlinewidth\":0,\"ticks\":\"\"},\"colorscale\":[[0.0,\"#0d0887\"],[0.1111111111111111,\"#46039f\"],[0.2222222222222222,\"#7201a8\"],[0.3333333333333333,\"#9c179e\"],[0.4444444444444444,\"#bd3786\"],[0.5555555555555556,\"#d8576b\"],[0.6666666666666666,\"#ed7953\"],[0.7777777777777778,\"#fb9f3a\"],[0.8888888888888888,\"#fdca26\"],[1.0,\"#f0f921\"]]}],\"heatmapgl\":[{\"type\":\"heatmapgl\",\"colorbar\":{\"outlinewidth\":0,\"ticks\":\"\"},\"colorscale\":[[0.0,\"#0d0887\"],[0.1111111111111111,\"#46039f\"],[0.2222222222222222,\"#7201a8\"],[0.3333333333333333,\"#9c179e\"],[0.4444444444444444,\"#bd3786\"],[0.5555555555555556,\"#d8576b\"],[0.6666666666666666,\"#ed7953\"],[0.7777777777777778,\"#fb9f3a\"],[0.8888888888888888,\"#fdca26\"],[1.0,\"#f0f921\"]]}],\"contourcarpet\":[{\"type\":\"contourcarpet\",\"colorbar\":{\"outlinewidth\":0,\"ticks\":\"\"}}],\"contour\":[{\"type\":\"contour\",\"colorbar\":{\"outlinewidth\":0,\"ticks\":\"\"},\"colorscale\":[[0.0,\"#0d0887\"],[0.1111111111111111,\"#46039f\"],[0.2222222222222222,\"#7201a8\"],[0.3333333333333333,\"#9c179e\"],[0.4444444444444444,\"#bd3786\"],[0.5555555555555556,\"#d8576b\"],[0.6666666666666666,\"#ed7953\"],[0.7777777777777778,\"#fb9f3a\"],[0.8888888888888888,\"#fdca26\"],[1.0,\"#f0f921\"]]}],\"surface\":[{\"type\":\"surface\",\"colorbar\":{\"outlinewidth\":0,\"ticks\":\"\"},\"colorscale\":[[0.0,\"#0d0887\"],[0.1111111111111111,\"#46039f\"],[0.2222222222222222,\"#7201a8\"],[0.3333333333333333,\"#9c179e\"],[0.4444444444444444,\"#bd3786\"],[0.5555555555555556,\"#d8576b\"],[0.6666666666666666,\"#ed7953\"],[0.7777777777777778,\"#fb9f3a\"],[0.8888888888888888,\"#fdca26\"],[1.0,\"#f0f921\"]]}],\"mesh3d\":[{\"type\":\"mesh3d\",\"colorbar\":{\"outlinewidth\":0,\"ticks\":\"\"}}],\"scatter\":[{\"fillpattern\":{\"fillmode\":\"overlay\",\"size\":10,\"solidity\":0.2},\"type\":\"scatter\"}],\"parcoords\":[{\"type\":\"parcoords\",\"line\":{\"colorbar\":{\"outlinewidth\":0,\"ticks\":\"\"}}}],\"scatterpolargl\":[{\"type\":\"scatterpolargl\",\"marker\":{\"colorbar\":{\"outlinewidth\":0,\"ticks\":\"\"}}}],\"bar\":[{\"error_x\":{\"color\":\"#2a3f5f\"},\"error_y\":{\"color\":\"#2a3f5f\"},\"marker\":{\"line\":{\"color\":\"#E5ECF6\",\"width\":0.5},\"pattern\":{\"fillmode\":\"overlay\",\"size\":10,\"solidity\":0.2}},\"type\":\"bar\"}],\"scattergeo\":[{\"type\":\"scattergeo\",\"marker\":{\"colorbar\":{\"outlinewidth\":0,\"ticks\":\"\"}}}],\"scatterpolar\":[{\"type\":\"scatterpolar\",\"marker\":{\"colorbar\":{\"outlinewidth\":0,\"ticks\":\"\"}}}],\"histogram\":[{\"marker\":{\"pattern\":{\"fillmode\":\"overlay\",\"size\":10,\"solidity\":0.2}},\"type\":\"histogram\"}],\"scattergl\":[{\"type\":\"scattergl\",\"marker\":{\"colorbar\":{\"outlinewidth\":0,\"ticks\":\"\"}}}],\"scatter3d\":[{\"type\":\"scatter3d\",\"line\":{\"colorbar\":{\"outlinewidth\":0,\"ticks\":\"\"}},\"marker\":{\"colorbar\":{\"outlinewidth\":0,\"ticks\":\"\"}}}],\"scattermapbox\":[{\"type\":\"scattermapbox\",\"marker\":{\"colorbar\":{\"outlinewidth\":0,\"ticks\":\"\"}}}],\"scatterternary\":[{\"type\":\"scatterternary\",\"marker\":{\"colorbar\":{\"outlinewidth\":0,\"ticks\":\"\"}}}],\"scattercarpet\":[{\"type\":\"scattercarpet\",\"marker\":{\"colorbar\":{\"outlinewidth\":0,\"ticks\":\"\"}}}],\"carpet\":[{\"aaxis\":{\"endlinecolor\":\"#2a3f5f\",\"gridcolor\":\"white\",\"linecolor\":\"white\",\"minorgridcolor\":\"white\",\"startlinecolor\":\"#2a3f5f\"},\"baxis\":{\"endlinecolor\":\"#2a3f5f\",\"gridcolor\":\"white\",\"linecolor\":\"white\",\"minorgridcolor\":\"white\",\"startlinecolor\":\"#2a3f5f\"},\"type\":\"carpet\"}],\"table\":[{\"cells\":{\"fill\":{\"color\":\"#EBF0F8\"},\"line\":{\"color\":\"white\"}},\"header\":{\"fill\":{\"color\":\"#C8D4E3\"},\"line\":{\"color\":\"white\"}},\"type\":\"table\"}],\"barpolar\":[{\"marker\":{\"line\":{\"color\":\"#E5ECF6\",\"width\":0.5},\"pattern\":{\"fillmode\":\"overlay\",\"size\":10,\"solidity\":0.2}},\"type\":\"barpolar\"}],\"pie\":[{\"automargin\":true,\"type\":\"pie\"}]},\"layout\":{\"autotypenumbers\":\"strict\",\"colorway\":[\"#636efa\",\"#EF553B\",\"#00cc96\",\"#ab63fa\",\"#FFA15A\",\"#19d3f3\",\"#FF6692\",\"#B6E880\",\"#FF97FF\",\"#FECB52\"],\"font\":{\"color\":\"#2a3f5f\"},\"hovermode\":\"closest\",\"hoverlabel\":{\"align\":\"left\"},\"paper_bgcolor\":\"white\",\"plot_bgcolor\":\"#E5ECF6\",\"polar\":{\"bgcolor\":\"#E5ECF6\",\"angularaxis\":{\"gridcolor\":\"white\",\"linecolor\":\"white\",\"ticks\":\"\"},\"radialaxis\":{\"gridcolor\":\"white\",\"linecolor\":\"white\",\"ticks\":\"\"}},\"ternary\":{\"bgcolor\":\"#E5ECF6\",\"aaxis\":{\"gridcolor\":\"white\",\"linecolor\":\"white\",\"ticks\":\"\"},\"baxis\":{\"gridcolor\":\"white\",\"linecolor\":\"white\",\"ticks\":\"\"},\"caxis\":{\"gridcolor\":\"white\",\"linecolor\":\"white\",\"ticks\":\"\"}},\"coloraxis\":{\"colorbar\":{\"outlinewidth\":0,\"ticks\":\"\"}},\"colorscale\":{\"sequential\":[[0.0,\"#0d0887\"],[0.1111111111111111,\"#46039f\"],[0.2222222222222222,\"#7201a8\"],[0.3333333333333333,\"#9c179e\"],[0.4444444444444444,\"#bd3786\"],[0.5555555555555556,\"#d8576b\"],[0.6666666666666666,\"#ed7953\"],[0.7777777777777778,\"#fb9f3a\"],[0.8888888888888888,\"#fdca26\"],[1.0,\"#f0f921\"]],\"sequentialminus\":[[0.0,\"#0d0887\"],[0.1111111111111111,\"#46039f\"],[0.2222222222222222,\"#7201a8\"],[0.3333333333333333,\"#9c179e\"],[0.4444444444444444,\"#bd3786\"],[0.5555555555555556,\"#d8576b\"],[0.6666666666666666,\"#ed7953\"],[0.7777777777777778,\"#fb9f3a\"],[0.8888888888888888,\"#fdca26\"],[1.0,\"#f0f921\"]],\"diverging\":[[0,\"#8e0152\"],[0.1,\"#c51b7d\"],[0.2,\"#de77ae\"],[0.3,\"#f1b6da\"],[0.4,\"#fde0ef\"],[0.5,\"#f7f7f7\"],[0.6,\"#e6f5d0\"],[0.7,\"#b8e186\"],[0.8,\"#7fbc41\"],[0.9,\"#4d9221\"],[1,\"#276419\"]]},\"xaxis\":{\"gridcolor\":\"white\",\"linecolor\":\"white\",\"ticks\":\"\",\"title\":{\"standoff\":15},\"zerolinecolor\":\"white\",\"automargin\":true,\"zerolinewidth\":2},\"yaxis\":{\"gridcolor\":\"white\",\"linecolor\":\"white\",\"ticks\":\"\",\"title\":{\"standoff\":15},\"zerolinecolor\":\"white\",\"automargin\":true,\"zerolinewidth\":2},\"scene\":{\"xaxis\":{\"backgroundcolor\":\"#E5ECF6\",\"gridcolor\":\"white\",\"linecolor\":\"white\",\"showbackground\":true,\"ticks\":\"\",\"zerolinecolor\":\"white\",\"gridwidth\":2},\"yaxis\":{\"backgroundcolor\":\"#E5ECF6\",\"gridcolor\":\"white\",\"linecolor\":\"white\",\"showbackground\":true,\"ticks\":\"\",\"zerolinecolor\":\"white\",\"gridwidth\":2},\"zaxis\":{\"backgroundcolor\":\"#E5ECF6\",\"gridcolor\":\"white\",\"linecolor\":\"white\",\"showbackground\":true,\"ticks\":\"\",\"zerolinecolor\":\"white\",\"gridwidth\":2}},\"shapedefaults\":{\"line\":{\"color\":\"#2a3f5f\"}},\"annotationdefaults\":{\"arrowcolor\":\"#2a3f5f\",\"arrowhead\":0,\"arrowwidth\":1},\"geo\":{\"bgcolor\":\"white\",\"landcolor\":\"#E5ECF6\",\"subunitcolor\":\"white\",\"showland\":true,\"showlakes\":true,\"lakecolor\":\"white\"},\"title\":{\"x\":0.05},\"mapbox\":{\"style\":\"light\"}}}},                        {\"responsive\": true}                    ).then(function(){\n",
       "                            \n",
       "var gd = document.getElementById('0952a963-3b52-4f2b-9cce-4816cb1c0938');\n",
       "var x = new MutationObserver(function (mutations, observer) {{\n",
       "        var display = window.getComputedStyle(gd).display;\n",
       "        if (!display || display === 'none') {{\n",
       "            console.log([gd, 'removed!']);\n",
       "            Plotly.purge(gd);\n",
       "            observer.disconnect();\n",
       "        }}\n",
       "}});\n",
       "\n",
       "// Listen for the removal of the full notebook cells\n",
       "var notebookContainer = gd.closest('#notebook-container');\n",
       "if (notebookContainer) {{\n",
       "    x.observe(notebookContainer, {childList: true});\n",
       "}}\n",
       "\n",
       "// Listen for the clearing of the current output cell\n",
       "var outputEl = gd.closest('.output');\n",
       "if (outputEl) {{\n",
       "    x.observe(outputEl, {childList: true});\n",
       "}}\n",
       "\n",
       "                        })                };                });            </script>        </div>"
      ]
     },
     "metadata": {},
     "output_type": "display_data"
    }
   ],
   "source": [
    "# strip the 2022 US $/bbl from each of the variable names\n",
    "oil_prices = benchmark_prices\n",
    "oil_prices['Variable'] = oil_prices['Variable'].str.split('-').str[0].str.strip()\n",
    "\n",
    "# filter out prices for Brent, WTI, and WCS\n",
    "valid_types = ['Brent', 'Western Canadian Select (WCS)', 'West Texas Intermediate (WTI)', 'Canadian Light Sweet (CLS)']\n",
    "oil_prices = oil_prices[~oil_prices[\"Variable\"].isin(valid_types)]\n",
    "\n",
    "# show interactive line graph\n",
    "create_interactive_line_graph(\n",
    "    df=oil_prices,\n",
    "    x='Year',\n",
    "    y='Value',\n",
    "    title='Natural Gas Prices Over Time by Scenario and Variable',\n",
    "    xAxisTitle='Year',\n",
    "    yAxisTitle='Price (2022 US$/MMBtu)'\n",
    ")"
   ]
  }
 ],
 "metadata": {
  "kernelspec": {
   "display_name": "Python 3 (ipykernel)",
   "language": "python",
   "name": "python3"
  },
  "language_info": {
   "codemirror_mode": {
    "name": "ipython",
    "version": 3
   },
   "file_extension": ".py",
   "mimetype": "text/x-python",
   "name": "python",
   "nbconvert_exporter": "python",
   "pygments_lexer": "ipython3",
   "version": "3.9.6"
  }
 },
 "nbformat": 4,
 "nbformat_minor": 5
}
